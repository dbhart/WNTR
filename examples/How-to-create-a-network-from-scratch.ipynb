{
 "cells": [
  {
   "cell_type": "markdown",
   "metadata": {},
   "source": [
    "# How-to: create a WNTR WaterNetworkModel from scratch\n",
    "\n",
    "This notebook demonstrates how to create a \n",
    "WaterNetworkModel completely from scratch. It uses the Net3\n",
    "example that comes from EPANET to do this, as it is sufficiently\n",
    "interesting but not super complicated. After creating the model,\n",
    "the handmade model will be simulated and the results compared\n",
    "to results from loading in the original INP file and running \n",
    "that model.\n",
    "\n",
    "This file was created partially by hand and partially by using a \n",
    "spreadsheet to take an existing EPANET INP file (Net3.inp) and \n",
    "using string concatenation functions to create the appropriate\n",
    "Python calls. It is possible to write this file by hand, obviously,\n",
    "but since the INP file exists, it is much faster to do it using\n",
    "text formatting.\n",
    "\n",
    "#### Table of Contents\n",
    "\n",
    "## Setup\n",
    "If you have not installed WNTR yet, you need to do so. WNTR\n",
    "uses additional libraries, though if you use an anaconda or\n",
    "Enthought distribution, you will probably have most of them\n",
    "installed. If you do \"pip install wntr\", it should verify\n",
    "that you have all the dependencies.\n",
    "\n",
    "For this demo, we need WNTR and for graphics we will check to make sure plotly and matplotlib are also installed."
   ]
  },
  {
   "cell_type": "code",
   "execution_count": null,
   "metadata": {
    "collapsed": true
   },
   "outputs": [],
   "source": [
    "import wntr\n",
    "import matplotlib.pyplot as plt\n",
    "import plotly as ptly"
   ]
  },
  {
   "cell_type": "markdown",
   "metadata": {
    "nbpresent": {
     "id": "7509468e-efd5-4a7d-8c54-1dbbe2907fa9"
    }
   },
   "source": [
    "## Building the model\n",
    "The first thing to do is create a new, empty WaterNetworkModel. We will then set up some handy shortcuts to cut down on how much typing we need to do.\n",
    "\n",
    "Choose the units that will be used in conversions and for the EPANET INP file (if the EpanetSimulator is used).\n",
    "Remember that WNTR uses SI units internally (kg, m, s, Pa, etc.) for all properties. Since we are \n",
    "replicating the EPANET Net3 example, we will use US Customary units of Gallons/minute as the flow units and\n",
    "convert properties like elevations to SI units as we go.\n",
    "\n",
    "Here we create some shortcuts so that it is easier to read and write the commands."
   ]
  },
  {
   "cell_type": "code",
   "execution_count": null,
   "metadata": {
    "collapsed": false,
    "nbpresent": {
     "id": "faf05a56-e266-4e91-bf1a-eac772bd0eb5"
    }
   },
   "outputs": [],
   "source": [
    "wn = wntr.network.model.WaterNetworkModel()  # Create a new water network model\n",
    "wn.name = 'MyNewNet3'\n",
    "opts = wn.options                            # Shortcut to the water network options structure\n",
    "toSI = wntr.epanet.util.to_si                # Shortcut to the USC to SI units conversion function\n",
    "hydPar = wntr.epanet.util.HydParam           # Shortcut to the hydraulic parameter types\n",
    "qualPar = wntr.epanet.util.QualParam         # Shortcut to the quality parameter types"
   ]
  },
  {
   "cell_type": "markdown",
   "metadata": {
    "nbpresent": {
     "id": "4bf3cf83-e40d-4649-9baa-37ebf76dbf95"
    }
   },
   "source": [
    "### Setting the model's options\n",
    "The WaterNetworkOptions class incorporates the EPANET sections for \n",
    "Options, Times, Quality, and Energy for setting up the model and \n",
    "simulators. It also stores EPANET graphics and outputs options from \n",
    "Report, Map, Backdrop, and Vertices. The core options will be discussed\n",
    "next, and the graphics and output options will be discussed later.\n",
    "\n",
    "#### Hydraulic options\n",
    "The options for the model need to be specified first, before anything else. \n",
    "This includes setting the flow units, default pattern name (if desired),\n",
    "solver options, and quality mode. All these options (except default pattern name)\n",
    "can be changed later. All these options come from the EPANET [OPTIONS] section."
   ]
  },
  {
   "cell_type": "code",
   "execution_count": null,
   "metadata": {
    "collapsed": false,
    "nbpresent": {
     "id": "e49ba2cd-655b-4215-9870-313505e15a4f"
    }
   },
   "outputs": [],
   "source": [
    "# Set up the EPANET flow units\n",
    "flowunits = wntr.epanet.util.FlowUnits.GPM   # Choose GPM as EPANET's units\n",
    "massunits = wntr.epanet.util.MassUnits.mg    # Choose quality in mg/L\n",
    "opts.hydraulic.units = flowunits\n",
    "\n",
    "# Choose a headloss formula to use\n",
    "headlosseq = wntr.epanet.util.FormulaType.HW # HEADLOSS H-W \n",
    "opts.hydraulic.headloss = headlosseq        \n",
    "\n",
    "opts.hydraulic.viscosity = 1.0\n",
    "opts.hydraulic.specific_gravity = 1.0\n",
    "opts.hydraulic.emitter_exponent = toSI(flowunits, 0.5, hydPar.EmitterCoeff)\n",
    "opts.hydraulic.pattern = '1'"
   ]
  },
  {
   "cell_type": "markdown",
   "metadata": {
    "nbpresent": {
     "id": "edbbb850-c90e-45ec-9206-4f021126d9e6"
    }
   },
   "source": [
    "The emitter exponent is the only hydraulic option that needs unit conversion.\n",
    "#### Solver options\n",
    "Setting the options for the solver is important. The following are options that\n",
    "apply to the EpanetSimulator, and all come from the [OPTIONS] section in an\n",
    "EPANET inp file."
   ]
  },
  {
   "cell_type": "code",
   "execution_count": null,
   "metadata": {
    "collapsed": true,
    "nbpresent": {
     "id": "23784311-0642-403b-b504-7cdde47b2bdb"
    }
   },
   "outputs": [],
   "source": [
    "opts.solver.trials = 40\n",
    "opts.solver.accuracy = 0.001\n",
    "opts.solver.checkfreq = 2\n",
    "opts.solver.unbalanced = 'CONTINUE'\n",
    "opts.solver.unbalanced_value = 10\n",
    "opts.solver.tolerance = 0.01"
   ]
  },
  {
   "cell_type": "markdown",
   "metadata": {
    "nbpresent": {
     "id": "d61c2848-02ee-4724-a6a4-c59d1841c313"
    }
   },
   "source": [
    "#### Time options\n",
    "The times for a WNTR model must be specified in seconds. All the timing options come from EPANET's [TIMES] section."
   ]
  },
  {
   "cell_type": "code",
   "execution_count": null,
   "metadata": {
    "collapsed": true,
    "nbpresent": {
     "id": "124e19a3-0610-4895-8495-dbab9bb8f88a"
    }
   },
   "outputs": [],
   "source": [
    "opts.time.duration = 168 * 60 * 60          # 168:00:00\n",
    "opts.time.hydraulic_timestep = 15 * 60      #     15:00\n",
    "opts.time.quality_timestep = 15 * 60        #     15:00\n",
    "opts.time.pattern_timestep = 60 * 60        #   1:00:00\n",
    "opts.time.pattern_start = 0                 #   0:00:00\n",
    "opts.time.report_timestep = 15 * 60         #     15:00\n",
    "opts.time.report_start = 0                  #   0:00:00\n",
    "opts.time.start_clocktime = 0               #  12:00:00 AM"
   ]
  },
  {
   "cell_type": "markdown",
   "metadata": {
    "nbpresent": {
     "id": "26ce59ba-fb44-4d9d-a649-9204156b6cf3"
    }
   },
   "source": [
    "#### Water quality options\n",
    "The `quality` options come from two different places in the inp file, three from [OPTIONS] and the remainder from [REACTIONS].\n",
    "The \"quality\" option in EPANET takes two values. \n",
    "These two values are separated in WNTR. The following sets up a water quality trace from the lake.\n",
    "The water quality reaction options are stored in WNTR as per-second, not per-day, and must be converted. The values here are 0.0, but the conversion is shown anyway"
   ]
  },
  {
   "cell_type": "code",
   "execution_count": null,
   "metadata": {
    "collapsed": true,
    "nbpresent": {
     "id": "cc520f14-9804-4836-838c-302d17c20d67"
    }
   },
   "outputs": [],
   "source": [
    "# From the [OPTIONS] section of an inp file\n",
    "opts.quality.mode = 'TRACE'\n",
    "opts.quality.trace_node = 'Lake'\n",
    "opts.quality.diffusivity = 1.0\n",
    "\n",
    "# From the [REACTIONS] section of an inp file\n",
    "opts.quality.bulk_rxn_order = 0\n",
    "opts.quality.tank_rxn_order = 0\n",
    "opts.quality.wall_rxn_order = 0\n",
    "opts.quality.limiting_potential = 0\n",
    "opts.quality.roughness_correlation = 0\n",
    "opts.quality.bulk_rxn_coeff = toSI(flowunits, 0.0, \n",
    "                                   param=qualPar.BulkReactionCoeff,\n",
    "                                   mass_units=massunits,\n",
    "                                   reaction_order=opts.quality.bulk_rxn_order)\n",
    "opts.quality.wall_rxn_coeff = toSI(flowunits, 0.0, \n",
    "                                   param=qualPar.WallReactionCoeff,\n",
    "                                   mass_units=massunits,\n",
    "                                   reaction_order=opts.quality.wall_rxn_order)"
   ]
  },
  {
   "cell_type": "markdown",
   "metadata": {
    "nbpresent": {
     "id": "a9af1777-ef2b-4bad-8b4c-a59c10438342"
    }
   },
   "source": [
    "#### Energy computation options\n",
    "Pump energy consumption calculations use the `energy` section of the options structure. All the [ENERGY] parameters in an EPANET inp file are included here."
   ]
  },
  {
   "cell_type": "code",
   "execution_count": null,
   "metadata": {
    "collapsed": true,
    "nbpresent": {
     "id": "47bddb6c-688b-4d3a-8c1c-f0a70e193d3d"
    }
   },
   "outputs": [],
   "source": [
    "opts.energy.demand_charge = 0\n",
    "opts.energy.global_price = 0\n",
    "opts.energy.global_efficiency = 75\n",
    "opts.energy.global_pattern = None"
   ]
  },
  {
   "cell_type": "markdown",
   "metadata": {
    "nbpresent": {
     "id": "60acf42b-7818-4a11-b757-c03b028457a5"
    }
   },
   "source": [
    "#### Results options\n",
    "The results options allow the user to get a single statistic as a result or to specify that only certain types of results should be saved after the simulation. "
   ]
  },
  {
   "cell_type": "code",
   "execution_count": null,
   "metadata": {
    "collapsed": false,
    "nbpresent": {
     "id": "adfbdfd4-143d-4811-a42a-cea93999b640"
    }
   },
   "outputs": [],
   "source": [
    "opts.results.statistic = 'NONE'"
   ]
  },
  {
   "cell_type": "markdown",
   "metadata": {
    "nbpresent": {
     "id": "99b70b9c-2d38-41a0-8710-8d56bb858a96"
    }
   },
   "source": [
    "### Creating Patterns and Curves\n",
    "Once the options have been set up, the next step is to create the patterns. Note that the order of sections doesn't matter in EPANET, as everything is read in first, then parsed. To create a network model programmatically, the patterns must exist in the network before assigning them to any objects (like junctions). \n",
    "\n",
    "#### Patterns\n",
    "The simplest way to create a pattern is to pass a name and list of multipliers. Because patterns are unitless, there is no need to run any unit conversion. Use the water network model's `add_pattern` to add the pattern to the model."
   ]
  },
  {
   "cell_type": "code",
   "execution_count": null,
   "metadata": {
    "collapsed": false,
    "nbpresent": {
     "id": "e3d34f68-3987-4dcd-aad6-808cfb281fd3"
    }
   },
   "outputs": [],
   "source": [
    "wn.add_pattern('1', [1.34, 1.94, 1.46, 1.44, 0.76, 0.92, 0.85, 1.07,\n",
    "                     0.96, 1.1, 1.08, 1.19, 1.16, 1.08, 0.96, 0.83,\n",
    "                     0.79, 0.74, 0.64, 0.64, 0.85, 0.96, 1.24, 1.67])\n",
    "wn.add_pattern('2', [0, 0, 0, 0, 0, 1219, 0, 0,\n",
    "                     0, 1866, 1836, 1818, 1818, 1822, 1822, 1817,\n",
    "                     1824, 1816, 1833, 1817, 1830, 1814, 1840, 1859])\n",
    "wn.add_pattern('3', [620, 620, 620, 620, 620, 360, 360, 0,\n",
    "                     0, 0, 0, 360, 360, 360, 360, 360,\n",
    "                     0, 0, 0, 0, 0, 0, 360, 360])"
   ]
  },
  {
   "cell_type": "markdown",
   "metadata": {
    "nbpresent": {
     "id": "f5de456f-1c6f-4b7f-b792-3699ae6141cc"
    }
   },
   "source": [
    "There is an additional way to create a pattern. It is possible to create a `wntr.network.Pattern` object first, and pass the object in."
   ]
  },
  {
   "cell_type": "code",
   "execution_count": null,
   "metadata": {
    "collapsed": false,
    "nbpresent": {
     "id": "6d31a424-3c0e-42eb-97b1-0943fdf97640"
    }
   },
   "outputs": [],
   "source": [
    "wn.add_pattern('4', [0])  # we will be changing this later\n",
    "pat5 = wntr.network.Pattern('5', [4439, 4531, 4511, 4582, 4531, 4582, 4572, 4613,\n",
    "                                  4643, 4643, 4592, 4613, 4531, 4521, 4449, 4439,\n",
    "                                  4449, 4460, 4439, 4419, 4368, 4399, 4470, 4480])\n",
    "wn.add_pattern('5', pat5)"
   ]
  },
  {
   "cell_type": "markdown",
   "metadata": {
    "nbpresent": {
     "id": "b4260a24-842e-47c2-8e77-75f838132ec9"
    }
   },
   "source": [
    "To get a pattern, call the model's `get_pattern` method."
   ]
  },
  {
   "cell_type": "code",
   "execution_count": null,
   "metadata": {
    "collapsed": false,
    "nbpresent": {
     "id": "298abe95-ddc7-496f-907e-a2b17bd70a29"
    }
   },
   "outputs": [],
   "source": [
    "pat4 = wn.get_pattern('4')"
   ]
  },
  {
   "cell_type": "markdown",
   "metadata": {
    "nbpresent": {
     "id": "d42fd40a-2afc-4201-b5e1-ab80c6e877d7"
    }
   },
   "source": [
    "The pattern values can be modified by assigning new values to the `.multipliers` attribute. Once a pattern has been retreived through the `get_pattern` method, it is not necessary to re-add it to the model."
   ]
  },
  {
   "cell_type": "code",
   "execution_count": null,
   "metadata": {
    "collapsed": false,
    "nbpresent": {
     "id": "65521161-1b86-46ca-bb98-b32313571594"
    }
   },
   "outputs": [],
   "source": [
    "print(str(pat4), 'Original multipliers: ', pat4.multipliers)\n",
    "pat4mult = [1637, 1706, 1719, 1719, 1791, 1819, 1777, 1842,\n",
    "            1815, 1825, 1856, 1801, 1819, 1733, 1664, 1620,\n",
    "            1613, 1620, 1616, 1647, 1627, 1627, 1671, 1668]\n",
    "pat4.multipliers = pat4mult\n",
    "print('')\n",
    "print(wn.get_pattern('4').multipliers)"
   ]
  },
  {
   "cell_type": "markdown",
   "metadata": {
    "nbpresent": {
     "id": "15cdfd5d-9e0a-4be2-8b6c-7d4e8ec0d8b1"
    }
   },
   "source": [
    "Adding the pattern with the same name will result in an error."
   ]
  },
  {
   "cell_type": "code",
   "execution_count": null,
   "metadata": {
    "collapsed": false,
    "nbpresent": {
     "id": "6f45f042-cb81-4024-bd6d-24862043bf91"
    }
   },
   "outputs": [],
   "source": [
    "try:\n",
    "    wn.add_pattern('4', pat4)\n",
    "except Exception as e:\n",
    "    print(repr(e))"
   ]
  },
  {
   "cell_type": "markdown",
   "metadata": {
    "nbpresent": {
     "id": "62330b90-0190-42e5-9b93-9f33e96644df"
    }
   },
   "source": [
    "#### Curves\n",
    "Unlike patterns, Curve objects are specific to a type of curve. For example, volume curves and pump (head) curves have completely different units on their axes, so it makes no sense to try to use the same object for both. The two curves that are present in the Net3 model are both \"pump curves,\" a.k.a., \"head curves\".\n",
    "\n",
    "To create the curve, the X and Y values must be properly converted. Head curves use flow for the X axis and head for the Y axis. Notice that it is possible to convert arrays of values (or, in fact, dictionaries of values) all at once.\n",
    "The x,y values must be passed in to the water network model as a list of (x,y) pairs. There is an easy way to do this in Python, using a function called `zip`."
   ]
  },
  {
   "cell_type": "code",
   "execution_count": null,
   "metadata": {
    "collapsed": false,
    "nbpresent": {
     "id": "d4def9a7-4577-4085-aa4c-6ca748a80ece"
    }
   },
   "outputs": [],
   "source": [
    "curve1x = toSI(flowunits, [0, 2000, 4000], hydPar.Flow)\n",
    "curve1y = toSI(flowunits, [104, 92, 63], hydPar.HydraulicHead)\n",
    "curve2x = toSI(flowunits, [0, 8000, 14000], hydPar.Flow)\n",
    "curve2y = toSI(flowunits, [200, 138, 86], hydPar.HydraulicHead)\n",
    "curve1_coeff = zip(curve1x, curve1y)\n",
    "curve2_coeff = zip(curve2x, curve2y)\n",
    "\n",
    "print(curve1x, curve1y)\n",
    "print(curve1_coeff)"
   ]
  },
  {
   "cell_type": "markdown",
   "metadata": {},
   "source": [
    "Once the coefficients have been created, the curve objects can be created and added to the model. We will use these curves when we add pumps later on."
   ]
  },
  {
   "cell_type": "code",
   "execution_count": null,
   "metadata": {
    "collapsed": false,
    "raw_mimetype": "text/latex"
   },
   "outputs": [],
   "source": [
    "wn.add_curve(name='1', curve_type='HEAD', xy_tuples_list=curve1_coeff)\n",
    "wn.add_curve(name='2', curve_type='HEAD', xy_tuples_list=curve2_coeff)\n",
    "\n",
    "print(repr(wn.get_curve('2')))"
   ]
  },
  {
   "cell_type": "markdown",
   "metadata": {
    "nbpresent": {
     "id": "86c37894-9def-4a90-afae-b415d548696d"
    }
   },
   "source": [
    "### Adding Nodes and Links\n",
    "Once the options and patterns have been configured, we can proceed to creating the physical elements, nodes and links.\n",
    "\n",
    "#### Junctions\n",
    "Because there are 97 nodes in this model, we will first add a few junctions, the tanks, and the reservoirs in order to demonstrate the syntax. Afterwards, the remaining 90 or so junctions will be added without extra explanations.\n",
    "There are several ways to add junctions, based on the information that is available. Technically, only the name is a required option.\n",
    "\n",
    "Example 1: For nodes with no demand, it is possible to add simply the elevation (converted from ft to SI units here). Here we also add coordinates to the node.\n",
    "\n",
    "Example 2: For nodes with a base demand, it should be converted to SI units (here being converted from gallons per minute to m^3/second). A demand pattern should be specified by name if one is desired.\n",
    "\n",
    "Example 3: *If the default pattern is* defined (`wn.options.hydraulic.pattern is not None`), then if the `demand_pattern` is not provided, the default pattern is used. *If the default pattern is None* then the base demand will be used as a constant demand value. If a default pattern is defined and a constant value is needed, create a pattern with a single multiplier of `[1.0]` and assign that pattern where constant demand is desired."
   ]
  },
  {
   "cell_type": "code",
   "execution_count": null,
   "metadata": {
    "collapsed": false,
    "nbpresent": {
     "id": "fa92251d-2a8c-427c-bfc9-c1dfae56f915"
    }
   },
   "outputs": [],
   "source": [
    "# Example 1: adding a junction with no demand\n",
    "wn.add_junction(name='10', \n",
    "                elevation=toSI(flowunits, 147, hydPar.Elevation), \n",
    "                coordinates=(9, 27.85))\n",
    "\n",
    "# Example 2: adding a junction using explicit demand pattern\n",
    "wn.add_junction(name='15', \n",
    "                elevation=toSI(flowunits, 32, hydPar.Elevation), \n",
    "                base_demand=toSI(flowunits, 1, hydPar.Demand), \n",
    "                demand_pattern='3', \n",
    "                coordinates=(38.68, 23.76))\n",
    "\n",
    "# Example 3: adding a junction using the default demand pattern, set in options\n",
    "wn.add_junction(name='101', \n",
    "                elevation=toSI(flowunits, 42, hydPar.Elevation), \n",
    "                base_demand=toSI(flowunits, 189.95, hydPar.Demand), \n",
    "                coordinates=(13.81, 22.94))\n",
    "\n",
    "print(repr(wn.get_node('15')))"
   ]
  },
  {
   "cell_type": "markdown",
   "metadata": {
    "nbpresent": {
     "id": "844b1e46-6562-470f-8cea-575ceea2dde6"
    }
   },
   "source": [
    "#### Tanks"
   ]
  },
  {
   "cell_type": "code",
   "execution_count": null,
   "metadata": {
    "collapsed": false,
    "nbpresent": {
     "id": "02fc35bc-25b1-468b-9efb-c777d326e3dd"
    }
   },
   "outputs": [],
   "source": [
    "wn.add_tank(name='1', \n",
    "                elevation=toSI(flowunits, 131.9, hydPar.Elevation), \n",
    "                init_level=toSI(flowunits, 13.1, hydPar.Length), \n",
    "                min_level=toSI(flowunits, 0.1, hydPar.Length), \n",
    "                max_level=toSI(flowunits, 32.1, hydPar.Length), \n",
    "                diameter=toSI(flowunits, 85, hydPar.TankDiameter), \n",
    "                min_vol=toSI(flowunits, 0, hydPar.Volume), \n",
    "                coordinates=(27.46, 9.84))\n",
    "wn.add_tank(name='2', \n",
    "                elevation=toSI(flowunits, 116.5, hydPar.Elevation), \n",
    "                init_level=toSI(flowunits, 23.5, hydPar.Length), \n",
    "                min_level=toSI(flowunits, 6.5, hydPar.Length), \n",
    "                max_level=toSI(flowunits, 40.3, hydPar.Length), \n",
    "                diameter=toSI(flowunits, 50, hydPar.TankDiameter), \n",
    "                min_vol=toSI(flowunits, 0, hydPar.Volume), \n",
    "                coordinates=(32.99, 3.45))\n",
    "wn.add_tank(name='3', \n",
    "                elevation=toSI(flowunits, 129, hydPar.Elevation), \n",
    "                init_level=toSI(flowunits, 29, hydPar.Length), \n",
    "                min_level=toSI(flowunits, 4, hydPar.Length), \n",
    "                max_level=toSI(flowunits, 35.5, hydPar.Length), \n",
    "                diameter=toSI(flowunits, 164, hydPar.TankDiameter), \n",
    "                min_vol=toSI(flowunits, 0, hydPar.Volume), \n",
    "                coordinates=(29.41, 27.27))\n",
    "\n",
    "print(repr(wn.get_node('3')))"
   ]
  },
  {
   "cell_type": "markdown",
   "metadata": {
    "nbpresent": {
     "id": "cd234cfe-75d0-4f8c-8ad8-5e7d14b0bf2d"
    }
   },
   "source": [
    "#### Reservoirs"
   ]
  },
  {
   "cell_type": "code",
   "execution_count": null,
   "metadata": {
    "collapsed": false,
    "nbpresent": {
     "id": "1cb11114-547a-4836-8f1d-098a9046739f"
    }
   },
   "outputs": [],
   "source": [
    "wn.add_reservoir(name='Lake',\n",
    "                 base_head=toSI(flowunits, 167, hydPar.HydraulicHead),\n",
    "                 coordinates=(8, 27.53))\n",
    "wn.add_reservoir(name='River',\n",
    "                 base_head=toSI(flowunits, 220, hydPar.HydraulicHead),\n",
    "                 coordinates=(24.15, 31.06))\n",
    "\n",
    "print(repr(wn.get_node('Lake')))"
   ]
  },
  {
   "cell_type": "markdown",
   "metadata": {
    "nbpresent": {
     "id": "fed2f6d1-a6ca-4d5b-9700-32aa50986318"
    }
   },
   "source": [
    "#### Pipes\n",
    "It is *not required* to add the appropriate nodes before adding the pipes. \n",
    "The following three junctions (60, 61, and 601) are defined so that the \n",
    "example definitions for pipes and pumps can be shown."
   ]
  },
  {
   "cell_type": "code",
   "execution_count": null,
   "metadata": {
    "collapsed": false,
    "nbpresent": {
     "id": "2a6db766-300c-4f9d-9616-c54f6cfad415"
    }
   },
   "outputs": [],
   "source": [
    "# The following three junctions are used for defining the example links\n",
    "wn.add_junction(name='60', elevation=toSI(flowunits, 0, hydPar.Elevation), coordinates=(23.9, 29.94))\n",
    "wn.add_junction(name='61', elevation=toSI(flowunits, 0, hydPar.Elevation), coordinates=(23.71, 29.03))\n",
    "wn.add_junction(name='601', elevation=toSI(flowunits, 0, hydPar.Elevation), coordinates=(23, 29.49))\n",
    "\n",
    "wn.add_pipe(name='330', \n",
    "            start_node_name='60',\n",
    "            end_node_name='601', \n",
    "            length=toSI(flowunits, 1, hydPar.Length), \n",
    "            diameter=toSI(flowunits, 30, hydPar.PipeDiameter), \n",
    "            roughness=toSI(flowunits, 140, hydPar.RoughnessCoeff), \n",
    "            minor_loss=0,\n",
    "            status='Closed',  # Default is 'Open'\n",
    "            check_valve_flag=False  # Default is False\n",
    "            )\n",
    "\n",
    "print(repr(wn.get_link('330')))"
   ]
  },
  {
   "cell_type": "markdown",
   "metadata": {
    "nbpresent": {
     "id": "98164611-11fb-4a57-a41a-b3a955f1d60f"
    }
   },
   "source": [
    "#### Pumps"
   ]
  },
  {
   "cell_type": "code",
   "execution_count": null,
   "metadata": {
    "collapsed": false,
    "nbpresent": {
     "id": "e8c6fb01-0de4-4009-9375-f5104c46219c"
    }
   },
   "outputs": [],
   "source": [
    "wn.add_pump(name='10',\n",
    "            start_node_name='Lake',\n",
    "            end_node_name='10',\n",
    "            info_type='HEAD',\n",
    "            info_value=wn.get_curve('1'),\n",
    "            speed=1.0)\n",
    "wn.add_pump(name='335',\n",
    "            start_node_name='60',\n",
    "            end_node_name='61',\n",
    "            info_type='HEAD',\n",
    "            info_value=wn.get_curve('2'))\n",
    "\n",
    "print(repr(wn.get_link('335')))"
   ]
  },
  {
   "cell_type": "markdown",
   "metadata": {},
   "source": [
    "#### Valves\n",
    "The Net3 model does not have any valves. We will come back to valves \n",
    "when we start modifying the model\n",
    "\n",
    "#### Initial link settings\n",
    "Pipes can be opened, closed, or have a check valve assigned when they \n",
    "are created. However, for valves and pumps, it is only possible to \n",
    "set their initial status after they have been created.\n",
    "Any link can have its initial status changed by using the `set_initial_status` \n",
    "member function. In Net3, pump '10' starts out as closed, and we set it\n",
    "so here."
   ]
  },
  {
   "cell_type": "code",
   "execution_count": null,
   "metadata": {
    "collapsed": false,
    "nbpresent": {
     "id": "9024e46b-b922-4b2d-85e2-f818662d6741"
    }
   },
   "outputs": [],
   "source": [
    "pump10 = wn.get_link('10')\n",
    "print('Current status: ',pump10.status)\n",
    "pump10.set_initial_status('CLOSED')\n",
    "print('New status: ',wn.get_link('10').status)"
   ]
  },
  {
   "cell_type": "markdown",
   "metadata": {},
   "source": [
    "### Controls and Rules\n",
    "In many ways, the rules (and controls) are the most important part of EPANET. These are the pieces that allow the user to truly mimic system operations, turning on pumps, shutting valves, and all the other actions that control the model. Unfortunately, this makes them more complex then the simple functions like `add_junction` or `add_pattern`. We will start with simple controls first, and then move on to more complex rules."
   ]
  },
  {
   "cell_type": "markdown",
   "metadata": {},
   "source": [
    "#### Simple time and comparison controls\n",
    "The simplest controls are limited to a single change of a status or setting that is triggered by time, tank level or junction pressure. There are no if/then/else constructs, no multiple actions, and very basic comparisons. \n",
    "\n",
    "To start, we will create some references to the actions for opening and closing the pumps and pipes. We will also create some shortcuts to the classes we will need. Status values must be set using the `LinkStatus` enumerated class, not strings such as 'open' or 'closed'."
   ]
  },
  {
   "cell_type": "code",
   "execution_count": null,
   "metadata": {
    "collapsed": true
   },
   "outputs": [],
   "source": [
    "ControlAction = wntr.network.ControlAction\n",
    "closed = wntr.network.LinkStatus.Closed\n",
    "opened = wntr.network.LinkStatus.Open\n",
    "TimeControl = wntr.network.TimeControl\n",
    "ConditionalControl = wntr.network.ConditionalControl\n",
    "\n",
    "# remember that we created pump10 earlier when we set its initial status\n",
    "act_close_pump10 = ControlAction(pump10, 'status', closed) \n",
    "act_open_pump10 = ControlAction(pump10, 'status', opened)\n",
    "ctrl_t01 = TimeControl(wn,\n",
    "                       run_at_time=1*3600,\n",
    "                       time_flag='SIM_TIME',\n",
    "                       daily_flag=False,\n",
    "                       control_action=act_open_pump10)\n",
    "ctrl_t15 = TimeControl(wn,\n",
    "                       run_at_time=15*3600,\n",
    "                       time_flag='SIM_TIME',\n",
    "                       daily_flag=False,\n",
    "                       control_action=act_close_pump10)\n",
    "\n",
    "wn.add_control('Open_10At01', ctrl_t01)\n",
    "wn.add_control('Close10At15', ctrl_t15)"
   ]
  },
  {
   "cell_type": "markdown",
   "metadata": {},
   "source": [
    "Notice that there are several options that are *required* for creating a TimeControl. First, the model itself must be passed in to the constructor as the first argument. Second, `run_at_time` must be provided in sectonds. Third, the `time_flag` option can be either 'SIM_TIME' for simulation time or 'SHIFTED_TIME' for clock time. Fourth, the `daily_flag` option tells WNTR to execute the control every day at the same time -- *this is not a valid option if you want to use the EpanetSimulator*. Finally, the control option is passed in.\n",
    "\n",
    "Next, we will create one of the level-based controls. We once again start with some variables and shortcuts."
   ]
  },
  {
   "cell_type": "code",
   "execution_count": null,
   "metadata": {
    "collapsed": false
   },
   "outputs": [],
   "source": [
    "# Model objects and shortcuts\n",
    "pump335 = wn.get_link('335')\n",
    "pipe330 = wn.get_link('330')\n",
    "tank1 = wn.get_node('1')\n",
    "below = wntr.network.controls.Comparison.lt.func\n",
    "above = wntr.network.controls.Comparison.gt.func\n",
    "\n",
    "# New actions\n",
    "act_close335 = ControlAction(pump335, 'status', closed)\n",
    "act_open335 = ControlAction(pump335, 'status', opened)\n",
    "act_close330 = ControlAction(pipe330, 'status', closed)\n",
    "act_open330 = ControlAction(pipe330, 'status', opened)\n",
    "\n",
    "# Thresholds to SI units\n",
    "tanklow = toSI(flowunits, 17.1, hydPar.Length)\n",
    "tankhi = toSI(flowunits, 19.1, hydPar.Length)\n",
    "\n",
    "# Pump filling\n",
    "# read the definition as:       IF  nodeY parameter above/below  threshold  thenDoSomeAction\n",
    "ctrl_open335  = ConditionalControl((tank1, 'level'), below, tanklow, act_open335)\n",
    "ctrl_close330 = ConditionalControl((tank1, 'level'), below, tanklow, act_close330)\n",
    "# Pump draining \n",
    "ctrl_open330  = ConditionalControl((tank1, 'level'), above, tankhi, act_open330)\n",
    "ctrl_close335 = ConditionalControl((tank1, 'level'), above, tankhi, act_close335)\n",
    "\n",
    "wn.add_control(name='Fill_1Open_335', control_object=ctrl_open335)\n",
    "wn.add_control(name='Fill_1Close330', control_object=ctrl_close330)\n",
    "wn.add_control('Drain1Open_330', control_object=ctrl_open330)\n",
    "wn.add_control('Drain1Close335', control_object=ctrl_close335)"
   ]
  },
  {
   "cell_type": "markdown",
   "metadata": {},
   "source": [
    "### Add in the remaining elements\n",
    "Now, the rest of the junctions, pipes, and time controls will be created without additional commentary. To save space,\n",
    "the lines will not be formatted prettily, but extend off the screen."
   ]
  },
  {
   "cell_type": "code",
   "execution_count": null,
   "metadata": {
    "collapsed": false
   },
   "outputs": [],
   "source": [
    "# Add the remaining junctions\n",
    "wn.add_junction('20', elevation=toSI(flowunits, 129, hydPar.Elevation), coordinates=(29.44, 26.91))\n",
    "wn.add_junction('35', elevation=toSI(flowunits, 12.5, hydPar.Elevation), base_demand=toSI(flowunits, 1, hydPar.Demand), demand_pattern='4', coordinates=(25.46, 10.52))\n",
    "wn.add_junction('40', elevation=toSI(flowunits, 131.9, hydPar.Elevation), coordinates=(27.02, 9.81))\n",
    "wn.add_junction('50', elevation=toSI(flowunits, 116.5, hydPar.Elevation), coordinates=(33.01, 3.01))\n",
    "wn.add_junction('103', elevation=toSI(flowunits, 43, hydPar.Elevation), base_demand=toSI(flowunits, 133.2, hydPar.Demand), coordinates=(12.96, 21.31))\n",
    "wn.add_junction('105', elevation=toSI(flowunits, 28.5, hydPar.Elevation), base_demand=toSI(flowunits, 135.37, hydPar.Demand), coordinates=(16.97, 21.28))\n",
    "wn.add_junction('107', elevation=toSI(flowunits, 22, hydPar.Elevation), base_demand=toSI(flowunits, 54.64, hydPar.Demand), coordinates=(18.45, 20.46))\n",
    "wn.add_junction('109', elevation=toSI(flowunits, 20.3, hydPar.Elevation), base_demand=toSI(flowunits, 231.4, hydPar.Demand), coordinates=(17.64, 18.92))\n",
    "wn.add_junction('111', elevation=toSI(flowunits, 10, hydPar.Elevation), base_demand=toSI(flowunits, 141.94, hydPar.Demand), coordinates=(20.21, 17.53))\n",
    "wn.add_junction('113', elevation=toSI(flowunits, 2, hydPar.Elevation), base_demand=toSI(flowunits, 20.01, hydPar.Demand), coordinates=(22.04, 16.61))\n",
    "wn.add_junction('115', elevation=toSI(flowunits, 14, hydPar.Elevation), base_demand=toSI(flowunits, 52.1, hydPar.Demand), coordinates=(20.98, 19.18))\n",
    "wn.add_junction('117', elevation=toSI(flowunits, 13.6, hydPar.Elevation), base_demand=toSI(flowunits, 117.71, hydPar.Demand), coordinates=(21.69, 21.28))\n",
    "wn.add_junction('119', elevation=toSI(flowunits, 2, hydPar.Elevation), base_demand=toSI(flowunits, 176.13, hydPar.Demand), coordinates=(23.7, 22.76))\n",
    "wn.add_junction('120', elevation=toSI(flowunits, 0, hydPar.Elevation), coordinates=(22.08, 23.1))\n",
    "wn.add_junction('121', elevation=toSI(flowunits, -2, hydPar.Elevation), base_demand=toSI(flowunits, 41.63, hydPar.Demand), coordinates=(23.54, 25.5))\n",
    "wn.add_junction('123', elevation=toSI(flowunits, 11, hydPar.Elevation), base_demand=toSI(flowunits, 1, hydPar.Demand), demand_pattern='2', coordinates=(23.37, 27.31))\n",
    "wn.add_junction('125', elevation=toSI(flowunits, 11, hydPar.Elevation), base_demand=toSI(flowunits, 45.6, hydPar.Demand), coordinates=(24.59, 25.64))\n",
    "wn.add_junction('127', elevation=toSI(flowunits, 56, hydPar.Elevation), base_demand=toSI(flowunits, 17.66, hydPar.Demand), coordinates=(29.29, 26.4))\n",
    "wn.add_junction('129', elevation=toSI(flowunits, 51, hydPar.Elevation), coordinates=(30.32, 26.39))\n",
    "wn.add_junction('131', elevation=toSI(flowunits, 6, hydPar.Elevation), base_demand=toSI(flowunits, 42.75, hydPar.Demand), coordinates=(37.89, 29.55))\n",
    "wn.add_junction('139', elevation=toSI(flowunits, 31, hydPar.Elevation), base_demand=toSI(flowunits, 5.89, hydPar.Demand), coordinates=(33.28, 24.54))\n",
    "wn.add_junction('141', elevation=toSI(flowunits, 4, hydPar.Elevation), base_demand=toSI(flowunits, 9.85, hydPar.Demand), coordinates=(35.68, 23.08))\n",
    "wn.add_junction('143', elevation=toSI(flowunits, -4.5, hydPar.Elevation), base_demand=toSI(flowunits, 6.2, hydPar.Demand), coordinates=(37.47, 21.97))\n",
    "wn.add_junction('145', elevation=toSI(flowunits, 1, hydPar.Elevation), base_demand=toSI(flowunits, 27.63, hydPar.Demand), coordinates=(33.02, 19.29))\n",
    "wn.add_junction('147', elevation=toSI(flowunits, 18.5, hydPar.Elevation), base_demand=toSI(flowunits, 8.55, hydPar.Demand), coordinates=(30.24, 20.38))\n",
    "wn.add_junction('149', elevation=toSI(flowunits, 16, hydPar.Elevation), base_demand=toSI(flowunits, 27.07, hydPar.Demand), coordinates=(29.62, 20.74))\n",
    "wn.add_junction('151', elevation=toSI(flowunits, 33.5, hydPar.Elevation), base_demand=toSI(flowunits, 144.48, hydPar.Demand), coordinates=(28.29, 21.39))\n",
    "wn.add_junction('153', elevation=toSI(flowunits, 66.2, hydPar.Elevation), base_demand=toSI(flowunits, 44.17, hydPar.Demand), coordinates=(28.13, 22.63))\n",
    "wn.add_junction('157', elevation=toSI(flowunits, 13.1, hydPar.Elevation), base_demand=toSI(flowunits, 51.79, hydPar.Demand), coordinates=(24.85, 20.16))\n",
    "wn.add_junction('159', elevation=toSI(flowunits, 6, hydPar.Elevation), base_demand=toSI(flowunits, 41.32, hydPar.Demand), coordinates=(23.12, 17.5))\n",
    "wn.add_junction('161', elevation=toSI(flowunits, 4, hydPar.Elevation), base_demand=toSI(flowunits, 15.8, hydPar.Demand), coordinates=(25.1, 15.28))\n",
    "wn.add_junction('163', elevation=toSI(flowunits, 5, hydPar.Elevation), base_demand=toSI(flowunits, 9.42, hydPar.Demand), coordinates=(25.39, 14.98))\n",
    "wn.add_junction('164', elevation=toSI(flowunits, 5, hydPar.Elevation), coordinates=(25.98, 15.14))\n",
    "wn.add_junction('166', elevation=toSI(flowunits, -2, hydPar.Elevation), base_demand=toSI(flowunits, 2.6, hydPar.Demand), coordinates=(26.48, 15.13))\n",
    "wn.add_junction('167', elevation=toSI(flowunits, -5, hydPar.Elevation), base_demand=toSI(flowunits, 14.56, hydPar.Demand), coordinates=(25.88, 12.98))\n",
    "wn.add_junction('169', elevation=toSI(flowunits, -5, hydPar.Elevation), coordinates=(25.68, 12.74))\n",
    "wn.add_junction('171', elevation=toSI(flowunits, -4, hydPar.Elevation), base_demand=toSI(flowunits, 39.34, hydPar.Demand), coordinates=(26.65, 11.8))\n",
    "wn.add_junction('173', elevation=toSI(flowunits, -4, hydPar.Elevation), coordinates=(26.87, 11.59))\n",
    "wn.add_junction('177', elevation=toSI(flowunits, 8, hydPar.Elevation), base_demand=toSI(flowunits, 58.17, hydPar.Demand), coordinates=(25.71, 10.57))\n",
    "wn.add_junction('179', elevation=toSI(flowunits, 8, hydPar.Elevation), coordinates=(25.71, 10.4))\n",
    "wn.add_junction('181', elevation=toSI(flowunits, 8, hydPar.Elevation), coordinates=(25.72, 10.74))\n",
    "wn.add_junction('183', elevation=toSI(flowunits, 11, hydPar.Elevation), coordinates=(25.45, 10.18))\n",
    "wn.add_junction('184', elevation=toSI(flowunits, 16, hydPar.Elevation), coordinates=(25.15, 9.52))\n",
    "wn.add_junction('185', elevation=toSI(flowunits, 16, hydPar.Elevation), base_demand=toSI(flowunits, 25.65, hydPar.Demand), coordinates=(25.01, 9.67))\n",
    "wn.add_junction('187', elevation=toSI(flowunits, 12.5, hydPar.Elevation), coordinates=(23.64, 11.04))\n",
    "wn.add_junction('189', elevation=toSI(flowunits, 4, hydPar.Elevation), base_demand=toSI(flowunits, 107.92, hydPar.Demand), coordinates=(24.15, 11.37))\n",
    "wn.add_junction('191', elevation=toSI(flowunits, 25, hydPar.Elevation), base_demand=toSI(flowunits, 81.9, hydPar.Demand), coordinates=(22.1, 14.07))\n",
    "wn.add_junction('193', elevation=toSI(flowunits, 18, hydPar.Elevation), base_demand=toSI(flowunits, 71.31, hydPar.Demand), coordinates=(22.88, 14.35))\n",
    "wn.add_junction('195', elevation=toSI(flowunits, 15.5, hydPar.Elevation), coordinates=(23.18, 14.72))\n",
    "wn.add_junction('197', elevation=toSI(flowunits, 23, hydPar.Elevation), base_demand=toSI(flowunits, 17.04, hydPar.Demand), coordinates=(20.97, 15.18))\n",
    "wn.add_junction('199', elevation=toSI(flowunits, -2, hydPar.Elevation), base_demand=toSI(flowunits, 119.32, hydPar.Demand), coordinates=(29.42, 8.44))\n",
    "wn.add_junction('201', elevation=toSI(flowunits, 0.1, hydPar.Elevation), base_demand=toSI(flowunits, 44.61, hydPar.Demand), coordinates=(30.89, 8.57))\n",
    "wn.add_junction('203', elevation=toSI(flowunits, 2, hydPar.Elevation), base_demand=toSI(flowunits, 1, hydPar.Demand), demand_pattern='5', coordinates=(31.14, 8.89))\n",
    "wn.add_junction('204', elevation=toSI(flowunits, 21, hydPar.Elevation), coordinates=(23.8, 10.9))\n",
    "wn.add_junction('205', elevation=toSI(flowunits, 21, hydPar.Elevation), base_demand=toSI(flowunits, 65.36, hydPar.Demand), coordinates=(29.2, 6.46))\n",
    "wn.add_junction('206', elevation=toSI(flowunits, 1, hydPar.Elevation), coordinates=(31.66, 6.64))\n",
    "wn.add_junction('207', elevation=toSI(flowunits, 9, hydPar.Elevation), base_demand=toSI(flowunits, 69.39, hydPar.Demand), coordinates=(31, 6.61))\n",
    "wn.add_junction('208', elevation=toSI(flowunits, 16, hydPar.Elevation), coordinates=(32.54, 6.81))\n",
    "wn.add_junction('209', elevation=toSI(flowunits, -2, hydPar.Elevation), base_demand=toSI(flowunits, 0.87, hydPar.Demand), coordinates=(33.76, 6.59))\n",
    "wn.add_junction('211', elevation=toSI(flowunits, 7, hydPar.Elevation), base_demand=toSI(flowunits, 8.67, hydPar.Demand), coordinates=(34.2, 5.54))\n",
    "wn.add_junction('213', elevation=toSI(flowunits, 7, hydPar.Elevation), base_demand=toSI(flowunits, 13.94, hydPar.Demand), coordinates=(35.26, 6.16))\n",
    "wn.add_junction('215', elevation=toSI(flowunits, 7, hydPar.Elevation), base_demand=toSI(flowunits, 92.19, hydPar.Demand), coordinates=(39.95, 8.73))\n",
    "wn.add_junction('217', elevation=toSI(flowunits, 6, hydPar.Elevation), base_demand=toSI(flowunits, 24.22, hydPar.Demand), coordinates=(42.11, 8.67))\n",
    "wn.add_junction('219', elevation=toSI(flowunits, 4, hydPar.Elevation), base_demand=toSI(flowunits, 41.32, hydPar.Demand), coordinates=(44.86, 9.32))\n",
    "wn.add_junction('225', elevation=toSI(flowunits, 8, hydPar.Elevation), base_demand=toSI(flowunits, 22.8, hydPar.Demand), coordinates=(43.53, 7.38))\n",
    "wn.add_junction('229', elevation=toSI(flowunits, 10.5, hydPar.Elevation), base_demand=toSI(flowunits, 64.18, hydPar.Demand), coordinates=(36.16, 3.49))\n",
    "wn.add_junction('231', elevation=toSI(flowunits, 5, hydPar.Elevation), base_demand=toSI(flowunits, 16.48, hydPar.Demand), coordinates=(38.38, 2.54))\n",
    "wn.add_junction('237', elevation=toSI(flowunits, 14, hydPar.Elevation), base_demand=toSI(flowunits, 15.61, hydPar.Demand), coordinates=(35.37, 3.08))\n",
    "wn.add_junction('239', elevation=toSI(flowunits, 13, hydPar.Elevation), base_demand=toSI(flowunits, 44.61, hydPar.Demand), coordinates=(35.76, 2.31))\n",
    "wn.add_junction('241', elevation=toSI(flowunits, 13, hydPar.Elevation), coordinates=(35.87, 2.11))\n",
    "wn.add_junction('243', elevation=toSI(flowunits, 14, hydPar.Elevation), base_demand=toSI(flowunits, 4.34, hydPar.Demand), coordinates=(37.04, 0))\n",
    "wn.add_junction('247', elevation=toSI(flowunits, 18, hydPar.Elevation), base_demand=toSI(flowunits, 70.38, hydPar.Demand), coordinates=(35.02, 2.05))\n",
    "wn.add_junction('249', elevation=toSI(flowunits, 18, hydPar.Elevation), coordinates=(35.02, 1.81))\n",
    "wn.add_junction('251', elevation=toSI(flowunits, 30, hydPar.Elevation), base_demand=toSI(flowunits, 24.16, hydPar.Demand), coordinates=(34.15, 1.1))\n",
    "wn.add_junction('253', elevation=toSI(flowunits, 36, hydPar.Elevation), base_demand=toSI(flowunits, 54.52, hydPar.Demand), coordinates=(32.17, 1.88))\n",
    "wn.add_junction('255', elevation=toSI(flowunits, 27, hydPar.Elevation), base_demand=toSI(flowunits, 40.39, hydPar.Demand), coordinates=(33.51, 2.45))\n",
    "wn.add_junction('257', elevation=toSI(flowunits, 17, hydPar.Elevation), coordinates=(21.17, 23.32))\n",
    "wn.add_junction('259', elevation=toSI(flowunits, 25, hydPar.Elevation), coordinates=(20.8, 23.4))\n",
    "wn.add_junction('261', elevation=toSI(flowunits, 0, hydPar.Elevation), coordinates=(20.79, 21.45))\n",
    "wn.add_junction('263', elevation=toSI(flowunits, 0, hydPar.Elevation), coordinates=(20.32, 21.57))\n",
    "wn.add_junction('265', elevation=toSI(flowunits, 0, hydPar.Elevation), coordinates=(25.39, 13.6))\n",
    "wn.add_junction('267', elevation=toSI(flowunits, 21, hydPar.Elevation), coordinates=(23.38, 12.95))\n",
    "wn.add_junction('269', elevation=toSI(flowunits, 0, hydPar.Elevation), coordinates=(25.03, 12.14))\n",
    "wn.add_junction('271', elevation=toSI(flowunits, 6, hydPar.Elevation), coordinates=(25.97, 11))\n",
    "wn.add_junction('273', elevation=toSI(flowunits, 8, hydPar.Elevation), coordinates=(29.16, 7.38))\n",
    "wn.add_junction('275', elevation=toSI(flowunits, 10, hydPar.Elevation), coordinates=(31.07, 8.29))\n",
    "# Add the remaining pipes\n",
    "wn.add_pipe('20', start_node_name='3', end_node_name='20', length=toSI(flowunits, 99, hydPar.Length), diameter=toSI(flowunits, 99, hydPar.PipeDiameter), roughness=toSI(flowunits, 199, hydPar.RoughnessCoeff))\n",
    "wn.add_pipe('40', start_node_name='1', end_node_name='40', length=toSI(flowunits, 99, hydPar.Length), diameter=toSI(flowunits, 99, hydPar.PipeDiameter), roughness=toSI(flowunits, 199, hydPar.RoughnessCoeff))\n",
    "wn.add_pipe('50', start_node_name='2', end_node_name='50', length=toSI(flowunits, 99, hydPar.Length), diameter=toSI(flowunits, 99, hydPar.PipeDiameter), roughness=toSI(flowunits, 199, hydPar.RoughnessCoeff))\n",
    "wn.add_pipe('60', start_node_name='River', end_node_name='60', length=toSI(flowunits, 1231, hydPar.Length), diameter=toSI(flowunits, 24, hydPar.PipeDiameter), roughness=toSI(flowunits, 140, hydPar.RoughnessCoeff))\n",
    "wn.add_pipe('101', start_node_name='10', end_node_name='101', length=toSI(flowunits, 14200, hydPar.Length), diameter=toSI(flowunits, 18, hydPar.PipeDiameter), roughness=toSI(flowunits, 110, hydPar.RoughnessCoeff))\n",
    "wn.add_pipe('103', start_node_name='101', end_node_name='103', length=toSI(flowunits, 1350, hydPar.Length), diameter=toSI(flowunits, 16, hydPar.PipeDiameter), roughness=toSI(flowunits, 130, hydPar.RoughnessCoeff))\n",
    "wn.add_pipe('105', start_node_name='101', end_node_name='105', length=toSI(flowunits, 2540, hydPar.Length), diameter=toSI(flowunits, 12, hydPar.PipeDiameter), roughness=toSI(flowunits, 130, hydPar.RoughnessCoeff))\n",
    "wn.add_pipe('107', start_node_name='105', end_node_name='107', length=toSI(flowunits, 1470, hydPar.Length), diameter=toSI(flowunits, 12, hydPar.PipeDiameter), roughness=toSI(flowunits, 130, hydPar.RoughnessCoeff))\n",
    "wn.add_pipe('109', start_node_name='103', end_node_name='109', length=toSI(flowunits, 3940, hydPar.Length), diameter=toSI(flowunits, 16, hydPar.PipeDiameter), roughness=toSI(flowunits, 130, hydPar.RoughnessCoeff))\n",
    "wn.add_pipe('111', start_node_name='109', end_node_name='111', length=toSI(flowunits, 2000, hydPar.Length), diameter=toSI(flowunits, 12, hydPar.PipeDiameter), roughness=toSI(flowunits, 130, hydPar.RoughnessCoeff))\n",
    "wn.add_pipe('112', start_node_name='115', end_node_name='111', length=toSI(flowunits, 1160, hydPar.Length), diameter=toSI(flowunits, 12, hydPar.PipeDiameter), roughness=toSI(flowunits, 130, hydPar.RoughnessCoeff))\n",
    "wn.add_pipe('113', start_node_name='111', end_node_name='113', length=toSI(flowunits, 1680, hydPar.Length), diameter=toSI(flowunits, 12, hydPar.PipeDiameter), roughness=toSI(flowunits, 130, hydPar.RoughnessCoeff))\n",
    "wn.add_pipe('114', start_node_name='115', end_node_name='113', length=toSI(flowunits, 2000, hydPar.Length), diameter=toSI(flowunits, 8, hydPar.PipeDiameter), roughness=toSI(flowunits, 130, hydPar.RoughnessCoeff))\n",
    "wn.add_pipe('115', start_node_name='107', end_node_name='115', length=toSI(flowunits, 1950, hydPar.Length), diameter=toSI(flowunits, 8, hydPar.PipeDiameter), roughness=toSI(flowunits, 130, hydPar.RoughnessCoeff))\n",
    "wn.add_pipe('116', start_node_name='113', end_node_name='193', length=toSI(flowunits, 1660, hydPar.Length), diameter=toSI(flowunits, 12, hydPar.PipeDiameter), roughness=toSI(flowunits, 130, hydPar.RoughnessCoeff))\n",
    "wn.add_pipe('117', start_node_name='263', end_node_name='105', length=toSI(flowunits, 2725, hydPar.Length), diameter=toSI(flowunits, 12, hydPar.PipeDiameter), roughness=toSI(flowunits, 130, hydPar.RoughnessCoeff))\n",
    "wn.add_pipe('119', start_node_name='115', end_node_name='117', length=toSI(flowunits, 2180, hydPar.Length), diameter=toSI(flowunits, 12, hydPar.PipeDiameter), roughness=toSI(flowunits, 130, hydPar.RoughnessCoeff))\n",
    "wn.add_pipe('120', start_node_name='119', end_node_name='120', length=toSI(flowunits, 730, hydPar.Length), diameter=toSI(flowunits, 12, hydPar.PipeDiameter), roughness=toSI(flowunits, 130, hydPar.RoughnessCoeff))\n",
    "wn.add_pipe('121', start_node_name='120', end_node_name='117', length=toSI(flowunits, 1870, hydPar.Length), diameter=toSI(flowunits, 12, hydPar.PipeDiameter), roughness=toSI(flowunits, 130, hydPar.RoughnessCoeff))\n",
    "wn.add_pipe('122', start_node_name='121', end_node_name='120', length=toSI(flowunits, 2050, hydPar.Length), diameter=toSI(flowunits, 8, hydPar.PipeDiameter), roughness=toSI(flowunits, 130, hydPar.RoughnessCoeff))\n",
    "wn.add_pipe('123', start_node_name='121', end_node_name='119', length=toSI(flowunits, 2000, hydPar.Length), diameter=toSI(flowunits, 30, hydPar.PipeDiameter), roughness=toSI(flowunits, 141, hydPar.RoughnessCoeff))\n",
    "wn.add_pipe('125', start_node_name='123', end_node_name='121', length=toSI(flowunits, 1500, hydPar.Length), diameter=toSI(flowunits, 30, hydPar.PipeDiameter), roughness=toSI(flowunits, 141, hydPar.RoughnessCoeff))\n",
    "wn.add_pipe('129', start_node_name='121', end_node_name='125', length=toSI(flowunits, 930, hydPar.Length), diameter=toSI(flowunits, 24, hydPar.PipeDiameter), roughness=toSI(flowunits, 130, hydPar.RoughnessCoeff))\n",
    "wn.add_pipe('131', start_node_name='125', end_node_name='127', length=toSI(flowunits, 3240, hydPar.Length), diameter=toSI(flowunits, 24, hydPar.PipeDiameter), roughness=toSI(flowunits, 130, hydPar.RoughnessCoeff))\n",
    "wn.add_pipe('133', start_node_name='20', end_node_name='127', length=toSI(flowunits, 785, hydPar.Length), diameter=toSI(flowunits, 20, hydPar.PipeDiameter), roughness=toSI(flowunits, 130, hydPar.RoughnessCoeff))\n",
    "wn.add_pipe('135', start_node_name='127', end_node_name='129', length=toSI(flowunits, 900, hydPar.Length), diameter=toSI(flowunits, 24, hydPar.PipeDiameter), roughness=toSI(flowunits, 130, hydPar.RoughnessCoeff))\n",
    "wn.add_pipe('137', start_node_name='129', end_node_name='131', length=toSI(flowunits, 6480, hydPar.Length), diameter=toSI(flowunits, 16, hydPar.PipeDiameter), roughness=toSI(flowunits, 130, hydPar.RoughnessCoeff))\n",
    "wn.add_pipe('145', start_node_name='129', end_node_name='139', length=toSI(flowunits, 2750, hydPar.Length), diameter=toSI(flowunits, 8, hydPar.PipeDiameter), roughness=toSI(flowunits, 130, hydPar.RoughnessCoeff))\n",
    "wn.add_pipe('147', start_node_name='139', end_node_name='141', length=toSI(flowunits, 2050, hydPar.Length), diameter=toSI(flowunits, 8, hydPar.PipeDiameter), roughness=toSI(flowunits, 130, hydPar.RoughnessCoeff))\n",
    "wn.add_pipe('149', start_node_name='143', end_node_name='141', length=toSI(flowunits, 1400, hydPar.Length), diameter=toSI(flowunits, 8, hydPar.PipeDiameter), roughness=toSI(flowunits, 130, hydPar.RoughnessCoeff))\n",
    "wn.add_pipe('151', start_node_name='15', end_node_name='143', length=toSI(flowunits, 1650, hydPar.Length), diameter=toSI(flowunits, 8, hydPar.PipeDiameter), roughness=toSI(flowunits, 130, hydPar.RoughnessCoeff))\n",
    "wn.add_pipe('153', start_node_name='145', end_node_name='141', length=toSI(flowunits, 3510, hydPar.Length), diameter=toSI(flowunits, 12, hydPar.PipeDiameter), roughness=toSI(flowunits, 130, hydPar.RoughnessCoeff))\n",
    "wn.add_pipe('155', start_node_name='147', end_node_name='145', length=toSI(flowunits, 2200, hydPar.Length), diameter=toSI(flowunits, 12, hydPar.PipeDiameter), roughness=toSI(flowunits, 130, hydPar.RoughnessCoeff))\n",
    "wn.add_pipe('159', start_node_name='147', end_node_name='149', length=toSI(flowunits, 880, hydPar.Length), diameter=toSI(flowunits, 12, hydPar.PipeDiameter), roughness=toSI(flowunits, 130, hydPar.RoughnessCoeff))\n",
    "wn.add_pipe('161', start_node_name='149', end_node_name='151', length=toSI(flowunits, 1020, hydPar.Length), diameter=toSI(flowunits, 8, hydPar.PipeDiameter), roughness=toSI(flowunits, 130, hydPar.RoughnessCoeff))\n",
    "wn.add_pipe('163', start_node_name='151', end_node_name='153', length=toSI(flowunits, 1170, hydPar.Length), diameter=toSI(flowunits, 12, hydPar.PipeDiameter), roughness=toSI(flowunits, 130, hydPar.RoughnessCoeff))\n",
    "wn.add_pipe('169', start_node_name='125', end_node_name='153', length=toSI(flowunits, 4560, hydPar.Length), diameter=toSI(flowunits, 8, hydPar.PipeDiameter), roughness=toSI(flowunits, 130, hydPar.RoughnessCoeff))\n",
    "wn.add_pipe('171', start_node_name='119', end_node_name='151', length=toSI(flowunits, 3460, hydPar.Length), diameter=toSI(flowunits, 12, hydPar.PipeDiameter), roughness=toSI(flowunits, 130, hydPar.RoughnessCoeff))\n",
    "wn.add_pipe('173', start_node_name='119', end_node_name='157', length=toSI(flowunits, 2080, hydPar.Length), diameter=toSI(flowunits, 30, hydPar.PipeDiameter), roughness=toSI(flowunits, 141, hydPar.RoughnessCoeff))\n",
    "wn.add_pipe('175', start_node_name='157', end_node_name='159', length=toSI(flowunits, 2910, hydPar.Length), diameter=toSI(flowunits, 30, hydPar.PipeDiameter), roughness=toSI(flowunits, 141, hydPar.RoughnessCoeff))\n",
    "wn.add_pipe('177', start_node_name='159', end_node_name='161', length=toSI(flowunits, 2000, hydPar.Length), diameter=toSI(flowunits, 30, hydPar.PipeDiameter), roughness=toSI(flowunits, 141, hydPar.RoughnessCoeff))\n",
    "wn.add_pipe('179', start_node_name='161', end_node_name='163', length=toSI(flowunits, 430, hydPar.Length), diameter=toSI(flowunits, 30, hydPar.PipeDiameter), roughness=toSI(flowunits, 141, hydPar.RoughnessCoeff))\n",
    "wn.add_pipe('180', start_node_name='163', end_node_name='164', length=toSI(flowunits, 150, hydPar.Length), diameter=toSI(flowunits, 14, hydPar.PipeDiameter), roughness=toSI(flowunits, 130, hydPar.RoughnessCoeff))\n",
    "wn.add_pipe('181', start_node_name='164', end_node_name='166', length=toSI(flowunits, 490, hydPar.Length), diameter=toSI(flowunits, 14, hydPar.PipeDiameter), roughness=toSI(flowunits, 130, hydPar.RoughnessCoeff))\n",
    "wn.add_pipe('183', start_node_name='265', end_node_name='169', length=toSI(flowunits, 590, hydPar.Length), diameter=toSI(flowunits, 30, hydPar.PipeDiameter), roughness=toSI(flowunits, 141, hydPar.RoughnessCoeff))\n",
    "wn.add_pipe('185', start_node_name='167', end_node_name='169', length=toSI(flowunits, 60, hydPar.Length), diameter=toSI(flowunits, 8, hydPar.PipeDiameter), roughness=toSI(flowunits, 130, hydPar.RoughnessCoeff))\n",
    "wn.add_pipe('186', start_node_name='187', end_node_name='204', length=toSI(flowunits, 99.9, hydPar.Length), diameter=toSI(flowunits, 8, hydPar.PipeDiameter), roughness=toSI(flowunits, 130, hydPar.RoughnessCoeff))\n",
    "wn.add_pipe('187', start_node_name='169', end_node_name='171', length=toSI(flowunits, 1270, hydPar.Length), diameter=toSI(flowunits, 30, hydPar.PipeDiameter), roughness=toSI(flowunits, 141, hydPar.RoughnessCoeff))\n",
    "wn.add_pipe('189', start_node_name='171', end_node_name='173', length=toSI(flowunits, 50, hydPar.Length), diameter=toSI(flowunits, 30, hydPar.PipeDiameter), roughness=toSI(flowunits, 141, hydPar.RoughnessCoeff))\n",
    "wn.add_pipe('191', start_node_name='271', end_node_name='171', length=toSI(flowunits, 760, hydPar.Length), diameter=toSI(flowunits, 24, hydPar.PipeDiameter), roughness=toSI(flowunits, 130, hydPar.RoughnessCoeff))\n",
    "wn.add_pipe('193', start_node_name='35', end_node_name='181', length=toSI(flowunits, 30, hydPar.Length), diameter=toSI(flowunits, 24, hydPar.PipeDiameter), roughness=toSI(flowunits, 130, hydPar.RoughnessCoeff))\n",
    "wn.add_pipe('195', start_node_name='181', end_node_name='177', length=toSI(flowunits, 30, hydPar.Length), diameter=toSI(flowunits, 12, hydPar.PipeDiameter), roughness=toSI(flowunits, 130, hydPar.RoughnessCoeff))\n",
    "wn.add_pipe('197', start_node_name='177', end_node_name='179', length=toSI(flowunits, 30, hydPar.Length), diameter=toSI(flowunits, 12, hydPar.PipeDiameter), roughness=toSI(flowunits, 130, hydPar.RoughnessCoeff))\n",
    "wn.add_pipe('199', start_node_name='179', end_node_name='183', length=toSI(flowunits, 210, hydPar.Length), diameter=toSI(flowunits, 12, hydPar.PipeDiameter), roughness=toSI(flowunits, 130, hydPar.RoughnessCoeff))\n",
    "wn.add_pipe('201', start_node_name='40', end_node_name='179', length=toSI(flowunits, 1190, hydPar.Length), diameter=toSI(flowunits, 12, hydPar.PipeDiameter), roughness=toSI(flowunits, 130, hydPar.RoughnessCoeff))\n",
    "wn.add_pipe('202', start_node_name='185', end_node_name='184', length=toSI(flowunits, 99.9, hydPar.Length), diameter=toSI(flowunits, 8, hydPar.PipeDiameter), roughness=toSI(flowunits, 130, hydPar.RoughnessCoeff))\n",
    "wn.add_pipe('203', start_node_name='183', end_node_name='185', length=toSI(flowunits, 510, hydPar.Length), diameter=toSI(flowunits, 8, hydPar.PipeDiameter), roughness=toSI(flowunits, 130, hydPar.RoughnessCoeff))\n",
    "wn.add_pipe('204', start_node_name='184', end_node_name='205', length=toSI(flowunits, 4530, hydPar.Length), diameter=toSI(flowunits, 12, hydPar.PipeDiameter), roughness=toSI(flowunits, 130, hydPar.RoughnessCoeff))\n",
    "wn.add_pipe('205', start_node_name='204', end_node_name='185', length=toSI(flowunits, 1325, hydPar.Length), diameter=toSI(flowunits, 12, hydPar.PipeDiameter), roughness=toSI(flowunits, 130, hydPar.RoughnessCoeff))\n",
    "wn.add_pipe('207', start_node_name='189', end_node_name='183', length=toSI(flowunits, 1350, hydPar.Length), diameter=toSI(flowunits, 12, hydPar.PipeDiameter), roughness=toSI(flowunits, 130, hydPar.RoughnessCoeff))\n",
    "wn.add_pipe('209', start_node_name='189', end_node_name='187', length=toSI(flowunits, 500, hydPar.Length), diameter=toSI(flowunits, 8, hydPar.PipeDiameter), roughness=toSI(flowunits, 130, hydPar.RoughnessCoeff))\n",
    "wn.add_pipe('211', start_node_name='169', end_node_name='269', length=toSI(flowunits, 646, hydPar.Length), diameter=toSI(flowunits, 12, hydPar.PipeDiameter), roughness=toSI(flowunits, 130, hydPar.RoughnessCoeff))\n",
    "wn.add_pipe('213', start_node_name='191', end_node_name='187', length=toSI(flowunits, 2560, hydPar.Length), diameter=toSI(flowunits, 12, hydPar.PipeDiameter), roughness=toSI(flowunits, 130, hydPar.RoughnessCoeff))\n",
    "wn.add_pipe('215', start_node_name='267', end_node_name='189', length=toSI(flowunits, 1230, hydPar.Length), diameter=toSI(flowunits, 12, hydPar.PipeDiameter), roughness=toSI(flowunits, 130, hydPar.RoughnessCoeff))\n",
    "wn.add_pipe('217', start_node_name='191', end_node_name='193', length=toSI(flowunits, 520, hydPar.Length), diameter=toSI(flowunits, 12, hydPar.PipeDiameter), roughness=toSI(flowunits, 130, hydPar.RoughnessCoeff))\n",
    "wn.add_pipe('219', start_node_name='193', end_node_name='195', length=toSI(flowunits, 360, hydPar.Length), diameter=toSI(flowunits, 12, hydPar.PipeDiameter), roughness=toSI(flowunits, 130, hydPar.RoughnessCoeff))\n",
    "wn.add_pipe('221', start_node_name='161', end_node_name='195', length=toSI(flowunits, 2300, hydPar.Length), diameter=toSI(flowunits, 8, hydPar.PipeDiameter), roughness=toSI(flowunits, 130, hydPar.RoughnessCoeff))\n",
    "wn.add_pipe('223', start_node_name='197', end_node_name='191', length=toSI(flowunits, 1150, hydPar.Length), diameter=toSI(flowunits, 12, hydPar.PipeDiameter), roughness=toSI(flowunits, 130, hydPar.RoughnessCoeff))\n",
    "wn.add_pipe('225', start_node_name='111', end_node_name='197', length=toSI(flowunits, 2790, hydPar.Length), diameter=toSI(flowunits, 12, hydPar.PipeDiameter), roughness=toSI(flowunits, 130, hydPar.RoughnessCoeff))\n",
    "wn.add_pipe('229', start_node_name='173', end_node_name='199', length=toSI(flowunits, 4000, hydPar.Length), diameter=toSI(flowunits, 24, hydPar.PipeDiameter), roughness=toSI(flowunits, 141, hydPar.RoughnessCoeff))\n",
    "wn.add_pipe('231', start_node_name='199', end_node_name='201', length=toSI(flowunits, 630, hydPar.Length), diameter=toSI(flowunits, 24, hydPar.PipeDiameter), roughness=toSI(flowunits, 141, hydPar.RoughnessCoeff))\n",
    "wn.add_pipe('233', start_node_name='201', end_node_name='203', length=toSI(flowunits, 120, hydPar.Length), diameter=toSI(flowunits, 24, hydPar.PipeDiameter), roughness=toSI(flowunits, 130, hydPar.RoughnessCoeff))\n",
    "wn.add_pipe('235', start_node_name='199', end_node_name='273', length=toSI(flowunits, 725, hydPar.Length), diameter=toSI(flowunits, 12, hydPar.PipeDiameter), roughness=toSI(flowunits, 130, hydPar.RoughnessCoeff))\n",
    "wn.add_pipe('237', start_node_name='205', end_node_name='207', length=toSI(flowunits, 1200, hydPar.Length), diameter=toSI(flowunits, 12, hydPar.PipeDiameter), roughness=toSI(flowunits, 130, hydPar.RoughnessCoeff))\n",
    "wn.add_pipe('238', start_node_name='207', end_node_name='206', length=toSI(flowunits, 450, hydPar.Length), diameter=toSI(flowunits, 12, hydPar.PipeDiameter), roughness=toSI(flowunits, 130, hydPar.RoughnessCoeff))\n",
    "wn.add_pipe('239', start_node_name='275', end_node_name='207', length=toSI(flowunits, 1430, hydPar.Length), diameter=toSI(flowunits, 12, hydPar.PipeDiameter), roughness=toSI(flowunits, 130, hydPar.RoughnessCoeff))\n",
    "wn.add_pipe('240', start_node_name='206', end_node_name='208', length=toSI(flowunits, 510, hydPar.Length), diameter=toSI(flowunits, 12, hydPar.PipeDiameter), roughness=toSI(flowunits, 130, hydPar.RoughnessCoeff))\n",
    "wn.add_pipe('241', start_node_name='208', end_node_name='209', length=toSI(flowunits, 885, hydPar.Length), diameter=toSI(flowunits, 12, hydPar.PipeDiameter), roughness=toSI(flowunits, 130, hydPar.RoughnessCoeff))\n",
    "wn.add_pipe('243', start_node_name='209', end_node_name='211', length=toSI(flowunits, 1210, hydPar.Length), diameter=toSI(flowunits, 16, hydPar.PipeDiameter), roughness=toSI(flowunits, 130, hydPar.RoughnessCoeff))\n",
    "wn.add_pipe('245', start_node_name='211', end_node_name='213', length=toSI(flowunits, 990, hydPar.Length), diameter=toSI(flowunits, 16, hydPar.PipeDiameter), roughness=toSI(flowunits, 130, hydPar.RoughnessCoeff))\n",
    "wn.add_pipe('247', start_node_name='213', end_node_name='215', length=toSI(flowunits, 4285, hydPar.Length), diameter=toSI(flowunits, 16, hydPar.PipeDiameter), roughness=toSI(flowunits, 130, hydPar.RoughnessCoeff))\n",
    "wn.add_pipe('249', start_node_name='215', end_node_name='217', length=toSI(flowunits, 1660, hydPar.Length), diameter=toSI(flowunits, 16, hydPar.PipeDiameter), roughness=toSI(flowunits, 130, hydPar.RoughnessCoeff))\n",
    "wn.add_pipe('251', start_node_name='217', end_node_name='219', length=toSI(flowunits, 2050, hydPar.Length), diameter=toSI(flowunits, 14, hydPar.PipeDiameter), roughness=toSI(flowunits, 130, hydPar.RoughnessCoeff))\n",
    "wn.add_pipe('257', start_node_name='217', end_node_name='225', length=toSI(flowunits, 1560, hydPar.Length), diameter=toSI(flowunits, 12, hydPar.PipeDiameter), roughness=toSI(flowunits, 130, hydPar.RoughnessCoeff))\n",
    "wn.add_pipe('261', start_node_name='213', end_node_name='229', length=toSI(flowunits, 2200, hydPar.Length), diameter=toSI(flowunits, 8, hydPar.PipeDiameter), roughness=toSI(flowunits, 130, hydPar.RoughnessCoeff))\n",
    "wn.add_pipe('263', start_node_name='229', end_node_name='231', length=toSI(flowunits, 1960, hydPar.Length), diameter=toSI(flowunits, 12, hydPar.PipeDiameter), roughness=toSI(flowunits, 130, hydPar.RoughnessCoeff))\n",
    "wn.add_pipe('269', start_node_name='211', end_node_name='237', length=toSI(flowunits, 2080, hydPar.Length), diameter=toSI(flowunits, 12, hydPar.PipeDiameter), roughness=toSI(flowunits, 130, hydPar.RoughnessCoeff))\n",
    "wn.add_pipe('271', start_node_name='237', end_node_name='229', length=toSI(flowunits, 790, hydPar.Length), diameter=toSI(flowunits, 8, hydPar.PipeDiameter), roughness=toSI(flowunits, 130, hydPar.RoughnessCoeff))\n",
    "wn.add_pipe('273', start_node_name='237', end_node_name='239', length=toSI(flowunits, 510, hydPar.Length), diameter=toSI(flowunits, 12, hydPar.PipeDiameter), roughness=toSI(flowunits, 130, hydPar.RoughnessCoeff))\n",
    "wn.add_pipe('275', start_node_name='239', end_node_name='241', length=toSI(flowunits, 35, hydPar.Length), diameter=toSI(flowunits, 12, hydPar.PipeDiameter), roughness=toSI(flowunits, 130, hydPar.RoughnessCoeff))\n",
    "wn.add_pipe('277', start_node_name='241', end_node_name='243', length=toSI(flowunits, 2200, hydPar.Length), diameter=toSI(flowunits, 12, hydPar.PipeDiameter), roughness=toSI(flowunits, 130, hydPar.RoughnessCoeff))\n",
    "wn.add_pipe('281', start_node_name='241', end_node_name='247', length=toSI(flowunits, 445, hydPar.Length), diameter=toSI(flowunits, 10, hydPar.PipeDiameter), roughness=toSI(flowunits, 130, hydPar.RoughnessCoeff))\n",
    "wn.add_pipe('283', start_node_name='239', end_node_name='249', length=toSI(flowunits, 430, hydPar.Length), diameter=toSI(flowunits, 12, hydPar.PipeDiameter), roughness=toSI(flowunits, 130, hydPar.RoughnessCoeff))\n",
    "wn.add_pipe('285', start_node_name='247', end_node_name='249', length=toSI(flowunits, 10, hydPar.Length), diameter=toSI(flowunits, 12, hydPar.PipeDiameter), roughness=toSI(flowunits, 130, hydPar.RoughnessCoeff))\n",
    "wn.add_pipe('287', start_node_name='247', end_node_name='255', length=toSI(flowunits, 1390, hydPar.Length), diameter=toSI(flowunits, 10, hydPar.PipeDiameter), roughness=toSI(flowunits, 130, hydPar.RoughnessCoeff))\n",
    "wn.add_pipe('289', start_node_name='50', end_node_name='255', length=toSI(flowunits, 925, hydPar.Length), diameter=toSI(flowunits, 10, hydPar.PipeDiameter), roughness=toSI(flowunits, 130, hydPar.RoughnessCoeff))\n",
    "wn.add_pipe('291', start_node_name='255', end_node_name='253', length=toSI(flowunits, 1100, hydPar.Length), diameter=toSI(flowunits, 10, hydPar.PipeDiameter), roughness=toSI(flowunits, 130, hydPar.RoughnessCoeff))\n",
    "wn.add_pipe('293', start_node_name='255', end_node_name='251', length=toSI(flowunits, 1100, hydPar.Length), diameter=toSI(flowunits, 8, hydPar.PipeDiameter), roughness=toSI(flowunits, 130, hydPar.RoughnessCoeff))\n",
    "wn.add_pipe('295', start_node_name='249', end_node_name='251', length=toSI(flowunits, 1450, hydPar.Length), diameter=toSI(flowunits, 12, hydPar.PipeDiameter), roughness=toSI(flowunits, 130, hydPar.RoughnessCoeff))\n",
    "wn.add_pipe('297', start_node_name='120', end_node_name='257', length=toSI(flowunits, 645, hydPar.Length), diameter=toSI(flowunits, 8, hydPar.PipeDiameter), roughness=toSI(flowunits, 130, hydPar.RoughnessCoeff))\n",
    "wn.add_pipe('299', start_node_name='257', end_node_name='259', length=toSI(flowunits, 350, hydPar.Length), diameter=toSI(flowunits, 8, hydPar.PipeDiameter), roughness=toSI(flowunits, 130, hydPar.RoughnessCoeff))\n",
    "wn.add_pipe('301', start_node_name='259', end_node_name='263', length=toSI(flowunits, 1400, hydPar.Length), diameter=toSI(flowunits, 8, hydPar.PipeDiameter), roughness=toSI(flowunits, 130, hydPar.RoughnessCoeff))\n",
    "wn.add_pipe('303', start_node_name='257', end_node_name='261', length=toSI(flowunits, 1400, hydPar.Length), diameter=toSI(flowunits, 8, hydPar.PipeDiameter), roughness=toSI(flowunits, 130, hydPar.RoughnessCoeff))\n",
    "wn.add_pipe('305', start_node_name='117', end_node_name='261', length=toSI(flowunits, 645, hydPar.Length), diameter=toSI(flowunits, 12, hydPar.PipeDiameter), roughness=toSI(flowunits, 130, hydPar.RoughnessCoeff))\n",
    "wn.add_pipe('307', start_node_name='261', end_node_name='263', length=toSI(flowunits, 350, hydPar.Length), diameter=toSI(flowunits, 12, hydPar.PipeDiameter), roughness=toSI(flowunits, 130, hydPar.RoughnessCoeff))\n",
    "wn.add_pipe('309', start_node_name='265', end_node_name='267', length=toSI(flowunits, 1580, hydPar.Length), diameter=toSI(flowunits, 8, hydPar.PipeDiameter), roughness=toSI(flowunits, 130, hydPar.RoughnessCoeff))\n",
    "wn.add_pipe('311', start_node_name='193', end_node_name='267', length=toSI(flowunits, 1170, hydPar.Length), diameter=toSI(flowunits, 12, hydPar.PipeDiameter), roughness=toSI(flowunits, 130, hydPar.RoughnessCoeff))\n",
    "wn.add_pipe('313', start_node_name='269', end_node_name='189', length=toSI(flowunits, 646, hydPar.Length), diameter=toSI(flowunits, 12, hydPar.PipeDiameter), roughness=toSI(flowunits, 130, hydPar.RoughnessCoeff))\n",
    "wn.add_pipe('315', start_node_name='181', end_node_name='271', length=toSI(flowunits, 260, hydPar.Length), diameter=toSI(flowunits, 24, hydPar.PipeDiameter), roughness=toSI(flowunits, 130, hydPar.RoughnessCoeff))\n",
    "wn.add_pipe('317', start_node_name='273', end_node_name='275', length=toSI(flowunits, 2230, hydPar.Length), diameter=toSI(flowunits, 8, hydPar.PipeDiameter), roughness=toSI(flowunits, 130, hydPar.RoughnessCoeff))\n",
    "wn.add_pipe('319', start_node_name='273', end_node_name='205', length=toSI(flowunits, 645, hydPar.Length), diameter=toSI(flowunits, 12, hydPar.PipeDiameter), roughness=toSI(flowunits, 130, hydPar.RoughnessCoeff))\n",
    "wn.add_pipe('321', start_node_name='163', end_node_name='265', length=toSI(flowunits, 1200, hydPar.Length), diameter=toSI(flowunits, 30, hydPar.PipeDiameter), roughness=toSI(flowunits, 141, hydPar.RoughnessCoeff))\n",
    "wn.add_pipe('323', start_node_name='201', end_node_name='275', length=toSI(flowunits, 300, hydPar.Length), diameter=toSI(flowunits, 12, hydPar.PipeDiameter), roughness=toSI(flowunits, 130, hydPar.RoughnessCoeff))\n",
    "wn.add_pipe('325', start_node_name='269', end_node_name='271', length=toSI(flowunits, 1290, hydPar.Length), diameter=toSI(flowunits, 8, hydPar.PipeDiameter), roughness=toSI(flowunits, 130, hydPar.RoughnessCoeff))\n",
    "wn.add_pipe('329', start_node_name='61', end_node_name='123', length=toSI(flowunits, 45500, hydPar.Length), diameter=toSI(flowunits, 30, hydPar.PipeDiameter), roughness=toSI(flowunits, 140, hydPar.RoughnessCoeff))\n",
    "wn.add_pipe('333', start_node_name='601', end_node_name='61', length=toSI(flowunits, 1, hydPar.Length), diameter=toSI(flowunits, 30, hydPar.PipeDiameter), roughness=toSI(flowunits, 140, hydPar.RoughnessCoeff))\n",
    "# Add the remaining controls\n",
    "wn.add_control('Open_10At025', TimeControl(wn, 25*3600, 'SIM_TIME', False, act_open_pump10))\n",
    "wn.add_control('Close10At039', TimeControl(wn, 39*3600, 'SIM_TIME', False, act_close_pump10))\n",
    "wn.add_control('Open_10At049', TimeControl(wn, 49*3600, 'SIM_TIME', False, act_open_pump10))\n",
    "wn.add_control('Close10At063', TimeControl(wn, 63*3600, 'SIM_TIME', False, act_close_pump10))\n",
    "wn.add_control('Open_10At073', TimeControl(wn, 73*3600, 'SIM_TIME', False, act_open_pump10))\n",
    "wn.add_control('Close10At087', TimeControl(wn, 87*3600, 'SIM_TIME', False, act_close_pump10))\n",
    "wn.add_control('Open_10At097', TimeControl(wn, 97*3600, 'SIM_TIME', False, act_open_pump10))\n",
    "wn.add_control('Close10At111', TimeControl(wn,111*3600, 'SIM_TIME', False, act_close_pump10))\n",
    "wn.add_control('Open_10At121', TimeControl(wn,121*3600, 'SIM_TIME', False, act_open_pump10))\n",
    "wn.add_control('Close10At135', TimeControl(wn,135*3600, 'SIM_TIME', False, act_close_pump10))\n",
    "wn.add_control('Open_10At145', TimeControl(wn,145*3600, 'SIM_TIME', False, act_open_pump10))\n",
    "wn.add_control('Close10At159', TimeControl(wn,159*3600, 'SIM_TIME', False, act_close_pump10))"
   ]
  },
  {
   "cell_type": "markdown",
   "metadata": {},
   "source": [
    "## Summarize the model\n",
    "WNTR provides a tool called `NetworkAnalyzer` that provides some simple ways to look\n",
    "at the structure of the water network model. The outputs are in SI units -- i.e., meters (length), \n",
    "kilograms (mass), cubic-meters-per-second (volume), seconds (time)"
   ]
  },
  {
   "cell_type": "code",
   "execution_count": null,
   "metadata": {
    "collapsed": false
   },
   "outputs": [],
   "source": [
    "wntr.utils.tools.NetworkAnalyzer.describe(wn)"
   ]
  },
  {
   "cell_type": "markdown",
   "metadata": {},
   "source": [
    "## Save the model\n",
    "Finally, we will save the model for use in other demos. Once you save the model, you\n",
    "can look at the INP file in a normal text editor, or by opening it in through jupyter."
   ]
  },
  {
   "cell_type": "code",
   "execution_count": null,
   "metadata": {
    "collapsed": true
   },
   "outputs": [],
   "source": [
    "wn.write_inpfile('MyNewNet3.inp')"
   ]
  }
 ],
 "metadata": {
  "anaconda-cloud": {},
  "kernelspec": {
   "display_name": "Python [conda root]",
   "language": "python",
   "name": "conda-root-py"
  },
  "language_info": {
   "codemirror_mode": {
    "name": "ipython",
    "version": 2
   },
   "file_extension": ".py",
   "mimetype": "text/x-python",
   "name": "python",
   "nbconvert_exporter": "python",
   "pygments_lexer": "ipython2",
   "version": "2.7.12"
  },
  "nbpresent": {
   "slides": {
    "0334a112-ce14-453c-aebb-7292f5785691": {
     "id": "0334a112-ce14-453c-aebb-7292f5785691",
     "prev": "18cbbfd3-1256-4c8e-9dbc-41f298cd164a",
     "regions": {
      "6526acb0-e830-454e-aa21-b3a6616e16e8": {
       "attrs": {
        "height": 0.8,
        "width": 0.8,
        "x": 0.1,
        "y": 0.1
       },
       "content": {
        "cell": "1c2ddacb-dbdc-4733-be87-40cda7e1eff5",
        "part": "whole"
       },
       "id": "6526acb0-e830-454e-aa21-b3a6616e16e8"
      }
     }
    },
    "0d46eee6-c169-4ace-bd5b-b5a5c1720cfe": {
     "id": "0d46eee6-c169-4ace-bd5b-b5a5c1720cfe",
     "prev": "473b37e0-54ca-4ed9-bbda-9038af79cb94",
     "regions": {
      "ccabfeb7-4422-447c-874e-4ac69d62ea7c": {
       "attrs": {
        "height": 0.8,
        "width": 0.8,
        "x": 0.1,
        "y": 0.1
       },
       "content": {
        "cell": "9024e46b-b922-4b2d-85e2-f818662d6741",
        "part": "whole"
       },
       "id": "ccabfeb7-4422-447c-874e-4ac69d62ea7c"
      }
     }
    },
    "101c75d5-7e5d-4180-929c-c402595331d5": {
     "id": "101c75d5-7e5d-4180-929c-c402595331d5",
     "prev": "25ddb273-627f-4c4a-84d2-0dbdead942dc",
     "regions": {
      "18b1395c-cfce-4d6f-a49c-d56faab1364c": {
       "attrs": {
        "height": 0.8,
        "width": 0.8,
        "x": 0.1,
        "y": 0.1
       },
       "content": {
        "cell": "d61c2848-02ee-4724-a6a4-c59d1841c313",
        "part": "whole"
       },
       "id": "18b1395c-cfce-4d6f-a49c-d56faab1364c"
      }
     }
    },
    "110c6808-b49b-4570-bfed-1af874243341": {
     "id": "110c6808-b49b-4570-bfed-1af874243341",
     "prev": "947fcde7-9e4c-4359-acc5-a15f3c79df2e",
     "regions": {
      "577d513d-0c84-4c5e-b9f5-a01c2f10ea75": {
       "attrs": {
        "height": 0.8,
        "width": 0.8,
        "x": 0.1,
        "y": 0.1
       },
       "content": {
        "cell": "62330b90-0190-42e5-9b93-9f33e96644df",
        "part": "whole"
       },
       "id": "577d513d-0c84-4c5e-b9f5-a01c2f10ea75"
      }
     }
    },
    "18cbbfd3-1256-4c8e-9dbc-41f298cd164a": {
     "id": "18cbbfd3-1256-4c8e-9dbc-41f298cd164a",
     "prev": "0d46eee6-c169-4ace-bd5b-b5a5c1720cfe",
     "regions": {
      "7364e6b9-a30a-4813-9060-1ea11bf1fd8a": {
       "attrs": {
        "height": 0.8,
        "width": 0.8,
        "x": 0.1,
        "y": 0.1
       },
       "content": {
        "cell": "d568fa2c-a3b0-478e-9933-93de85035b95",
        "part": "whole"
       },
       "id": "7364e6b9-a30a-4813-9060-1ea11bf1fd8a"
      }
     }
    },
    "25ddb273-627f-4c4a-84d2-0dbdead942dc": {
     "id": "25ddb273-627f-4c4a-84d2-0dbdead942dc",
     "prev": "e3578854-3d2d-4ef4-a95d-d32aae48e530",
     "regions": {
      "2f42b81a-4699-4989-9c96-038797a2b9a4": {
       "attrs": {
        "height": 0.8,
        "width": 0.8,
        "x": 0.1,
        "y": 0.1
       },
       "content": {
        "cell": "daacb847-acd4-48dd-b747-831e5b387d0d",
        "part": "whole"
       },
       "id": "2f42b81a-4699-4989-9c96-038797a2b9a4"
      }
     }
    },
    "2ce03753-144e-4d3c-9a63-4348a6ed29bf": {
     "id": "2ce03753-144e-4d3c-9a63-4348a6ed29bf",
     "prev": "2d2f9ed3-3c87-45f2-aac8-3dfb94611bd0",
     "regions": {
      "fc729130-fff8-4ad6-9b7c-a5ab487c711f": {
       "attrs": {
        "height": 0.8,
        "width": 0.8,
        "x": 0.1,
        "y": 0.1
       },
       "content": {
        "cell": "844b1e46-6562-470f-8cea-575ceea2dde6",
        "part": "whole"
       },
       "id": "fc729130-fff8-4ad6-9b7c-a5ab487c711f"
      }
     }
    },
    "2d2f9ed3-3c87-45f2-aac8-3dfb94611bd0": {
     "id": "2d2f9ed3-3c87-45f2-aac8-3dfb94611bd0",
     "prev": "e8eb3668-2b14-4799-94a6-1bfe180e6fa5",
     "regions": {
      "46f1ecfe-c34a-46eb-a3b6-3e17f728c0fb": {
       "attrs": {
        "height": 0.8,
        "width": 0.8,
        "x": 0.1,
        "y": 0.1
       },
       "content": {
        "cell": "fa92251d-2a8c-427c-bfc9-c1dfae56f915",
        "part": "whole"
       },
       "id": "46f1ecfe-c34a-46eb-a3b6-3e17f728c0fb"
      }
     }
    },
    "3b94f06f-415f-4960-a53f-9a79618f6fc6": {
     "id": "3b94f06f-415f-4960-a53f-9a79618f6fc6",
     "prev": "d3139093-7da9-4b59-82d9-34bacd84d4b9",
     "regions": {
      "a08f9957-0fd7-43ee-8782-7435f40b052c": {
       "attrs": {
        "height": 0.8,
        "width": 0.8,
        "x": 0.1,
        "y": 0.1
       },
       "content": {
        "cell": "b4260a24-842e-47c2-8e77-75f838132ec9",
        "part": "whole"
       },
       "id": "a08f9957-0fd7-43ee-8782-7435f40b052c"
      }
     }
    },
    "3d7e539e-c375-4e93-98f7-c0890c94fb3f": {
     "id": "3d7e539e-c375-4e93-98f7-c0890c94fb3f",
     "prev": "f06b8442-07af-49e9-ba93-cc36341b1338",
     "regions": {
      "6e1e0e13-9e34-4f7d-b4fd-275095cb5928": {
       "attrs": {
        "height": 0.8,
        "width": 0.8,
        "x": 0.1,
        "y": 0.1
       },
       "content": {
        "cell": "aca18d3f-ccab-43c4-bf14-80f7f30051c6",
        "part": "whole"
       },
       "id": "6e1e0e13-9e34-4f7d-b4fd-275095cb5928"
      }
     }
    },
    "473b37e0-54ca-4ed9-bbda-9038af79cb94": {
     "id": "473b37e0-54ca-4ed9-bbda-9038af79cb94",
     "prev": "f90eea6c-a4b2-48ca-a323-c757e9cd247a",
     "regions": {
      "38f3ed4e-1818-405c-a5c5-bb63d332c427": {
       "attrs": {
        "height": 0.8,
        "width": 0.8,
        "x": 0.1,
        "y": 0.1
       },
       "content": {
        "cell": "bd0ed9d0-588c-413e-9a5c-70df483170fb",
        "part": "whole"
       },
       "id": "38f3ed4e-1818-405c-a5c5-bb63d332c427"
      }
     }
    },
    "4b2e10f5-500d-4335-96e5-4f9e8ebee0e9": {
     "id": "4b2e10f5-500d-4335-96e5-4f9e8ebee0e9",
     "prev": "fcff6d63-61ed-4165-bae2-3c753c394f54",
     "regions": {
      "c9b8a09a-c461-408d-8446-5a692a15482a": {
       "attrs": {
        "height": 0.8,
        "width": 0.8,
        "x": 0.1,
        "y": 0.1
       },
       "content": {
        "cell": "26ce59ba-fb44-4d9d-a649-9204156b6cf3",
        "part": "whole"
       },
       "id": "c9b8a09a-c461-408d-8446-5a692a15482a"
      }
     }
    },
    "56a91290-5464-4bec-9589-280d25073088": {
     "id": "56a91290-5464-4bec-9589-280d25073088",
     "prev": "e2c651fa-210d-4e6f-977d-8b78a35ef65c",
     "regions": {
      "cb6376d1-b270-451e-823f-dd138316ef0d": {
       "attrs": {
        "height": 0.8,
        "width": 0.8,
        "x": 0.1,
        "y": 0.1
       },
       "content": {
        "cell": "47bddb6c-688b-4d3a-8c1c-f0a70e193d3d",
        "part": "whole"
       },
       "id": "cb6376d1-b270-451e-823f-dd138316ef0d"
      }
     }
    },
    "5e0240d1-f7f6-4f22-867c-708e31d3ad3d": {
     "id": "5e0240d1-f7f6-4f22-867c-708e31d3ad3d",
     "prev": "a3f3f0cb-723e-46a4-9fe5-c01604ad859d",
     "regions": {
      "78b33439-19bb-4be6-9c3e-ad45fcc9c7cf": {
       "attrs": {
        "height": 0.8,
        "width": 0.8,
        "x": 0.1,
        "y": 0.1
       },
       "content": {
        "cell": "feac23fa-2fc6-468a-988b-7e3d99ca357c",
        "part": "whole"
       },
       "id": "78b33439-19bb-4be6-9c3e-ad45fcc9c7cf"
      }
     }
    },
    "5e451f84-348e-4eb6-a9fb-dd7479ba9ba6": {
     "id": "5e451f84-348e-4eb6-a9fb-dd7479ba9ba6",
     "prev": "5e0240d1-f7f6-4f22-867c-708e31d3ad3d",
     "regions": {
      "321d5fe4-3ae5-40b6-a07c-2ea2e0cdfbbe": {
       "attrs": {
        "height": 0.8,
        "width": 0.8,
        "x": 0.1,
        "y": 0.1
       },
       "content": {
        "cell": "fed2f6d1-a6ca-4d5b-9700-32aa50986318",
        "part": "whole"
       },
       "id": "321d5fe4-3ae5-40b6-a07c-2ea2e0cdfbbe"
      }
     }
    },
    "5e6c20d1-3980-48d9-896d-05a9ff0dae6f": {
     "id": "5e6c20d1-3980-48d9-896d-05a9ff0dae6f",
     "prev": "8292b0ef-b32e-4f09-9f56-d5eb567d6d20",
     "regions": {
      "923200a6-8031-4d57-a648-aca737b9f612": {
       "attrs": {
        "height": 0.8,
        "width": 0.8,
        "x": 0.1,
        "y": 0.1
       },
       "content": {
        "cell": "f5de456f-1c6f-4b7f-b792-3699ae6141cc",
        "part": "whole"
       },
       "id": "923200a6-8031-4d57-a648-aca737b9f612"
      }
     }
    },
    "5f0af84e-a37e-42e2-9958-f5aced780924": {
     "id": "5f0af84e-a37e-42e2-9958-f5aced780924",
     "prev": "b77bc0bb-ef19-461c-a9db-96c833f6c9f6",
     "regions": {
      "a2eae7d5-0566-46dc-8d1b-c30f6b25fb64": {
       "attrs": {
        "height": 0.8,
        "width": 0.8,
        "x": 0.1,
        "y": 0.1
       },
       "content": {
        "cell": "a2a1a47a-8cde-48f0-814c-31883727ff65",
        "part": "whole"
       },
       "id": "a2eae7d5-0566-46dc-8d1b-c30f6b25fb64"
      }
     }
    },
    "6b51b6a9-84de-4bfa-916a-8485f38fb2df": {
     "id": "6b51b6a9-84de-4bfa-916a-8485f38fb2df",
     "prev": "f8624038-7e5b-4b89-a178-732751c42aea",
     "regions": {
      "8d20ee91-e668-4e41-b7ac-566a40e73273": {
       "attrs": {
        "height": 0.8,
        "width": 0.8,
        "x": 0.1,
        "y": 0.1
       },
       "content": {
        "cell": "bd47dd06-2829-48bc-adab-63316309c16e",
        "part": "whole"
       },
       "id": "8d20ee91-e668-4e41-b7ac-566a40e73273"
      }
     }
    },
    "6c7879fb-81e5-4043-af6a-4b55ad98aa2f": {
     "id": "6c7879fb-81e5-4043-af6a-4b55ad98aa2f",
     "prev": "3d7e539e-c375-4e93-98f7-c0890c94fb3f",
     "regions": {
      "317376e9-171b-4db6-92f0-f453c86b7eb9": {
       "attrs": {
        "height": 0.8,
        "width": 0.8,
        "x": 0.1,
        "y": 0.1
       },
       "content": {
        "cell": "f4d813d8-3e03-45cf-aed9-f61b9f8ca749",
        "part": "whole"
       },
       "id": "317376e9-171b-4db6-92f0-f453c86b7eb9"
      }
     }
    },
    "7f416da0-3b7c-4a70-ae86-2b6d37895f60": {
     "id": "7f416da0-3b7c-4a70-ae86-2b6d37895f60",
     "prev": "3b94f06f-415f-4960-a53f-9a79618f6fc6",
     "regions": {
      "878177e9-edb7-4d5a-903a-1f21d81dcc55": {
       "attrs": {
        "height": 0.8,
        "width": 0.8,
        "x": 0.1,
        "y": 0.1
       },
       "content": {
        "cell": "298abe95-ddc7-496f-907e-a2b17bd70a29",
        "part": "whole"
       },
       "id": "878177e9-edb7-4d5a-903a-1f21d81dcc55"
      }
     }
    },
    "8292b0ef-b32e-4f09-9f56-d5eb567d6d20": {
     "id": "8292b0ef-b32e-4f09-9f56-d5eb567d6d20",
     "prev": "9ce44d57-44b3-4cda-a737-8241ab626a83",
     "regions": {
      "b91d198e-4cf6-43f4-b96a-7b430f5dafa8": {
       "attrs": {
        "height": 0.8,
        "width": 0.8,
        "x": 0.1,
        "y": 0.1
       },
       "content": {
        "cell": "e3d34f68-3987-4dcd-aad6-808cfb281fd3",
        "part": "whole"
       },
       "id": "b91d198e-4cf6-43f4-b96a-7b430f5dafa8"
      }
     }
    },
    "8a178720-91d2-4ad5-8f40-bd4ed39f329a": {
     "id": "8a178720-91d2-4ad5-8f40-bd4ed39f329a",
     "prev": "9a2b845e-72b8-4238-a2ce-04779fa3de39",
     "regions": {
      "93037a03-dc24-444d-8bf4-17e600d2c5bb": {
       "attrs": {
        "height": 0.8,
        "width": 0.8,
        "x": 0.1,
        "y": 0.1
       },
       "content": {
        "cell": "abee13f5-d150-487c-9346-8f6a57df5e14",
        "part": "whole"
       },
       "id": "93037a03-dc24-444d-8bf4-17e600d2c5bb"
      }
     }
    },
    "8b21127c-1bb0-4db6-8a11-1830efac7b4b": {
     "id": "8b21127c-1bb0-4db6-8a11-1830efac7b4b",
     "prev": "a3c04c7b-c810-4e4a-87f0-2bb8639fa716",
     "regions": {
      "c16ec6b9-e634-4407-a8d7-912b661a20e5": {
       "attrs": {
        "height": 0.8,
        "width": 0.8,
        "x": 0.1,
        "y": 0.1
       },
       "content": {
        "cell": "e49ba2cd-655b-4215-9870-313505e15a4f",
        "part": "whole"
       },
       "id": "c16ec6b9-e634-4407-a8d7-912b661a20e5"
      }
     }
    },
    "8c4dc6a9-7c10-4ba1-80be-dda22afa4539": {
     "id": "8c4dc6a9-7c10-4ba1-80be-dda22afa4539",
     "prev": "6c7879fb-81e5-4043-af6a-4b55ad98aa2f",
     "regions": {
      "bece081b-a48d-4fff-89fe-2cf0d5556fc2": {
       "attrs": {
        "height": 0.8,
        "width": 0.8,
        "x": 0.1,
        "y": 0.1
       },
       "content": {
        "cell": "903ef0d0-4e1e-4211-b4df-056abf9b57ad",
        "part": "whole"
       },
       "id": "bece081b-a48d-4fff-89fe-2cf0d5556fc2"
      }
     }
    },
    "947fcde7-9e4c-4359-acc5-a15f3c79df2e": {
     "id": "947fcde7-9e4c-4359-acc5-a15f3c79df2e",
     "prev": "b8f5ba27-796d-4f60-99e2-612e3f8c5e74",
     "regions": {
      "96177e2f-1201-42b4-ae01-0036a2c74dbd": {
       "attrs": {
        "height": 0.8,
        "width": 0.8,
        "x": 0.1,
        "y": 0.1
       },
       "content": {
        "cell": "6f45f042-cb81-4024-bd6d-24862043bf91",
        "part": "whole"
       },
       "id": "96177e2f-1201-42b4-ae01-0036a2c74dbd"
      }
     }
    },
    "971561a4-9f47-4cb1-90fd-3cbee0c39e17": {
     "id": "971561a4-9f47-4cb1-90fd-3cbee0c39e17",
     "prev": "8a178720-91d2-4ad5-8f40-bd4ed39f329a",
     "regions": {
      "3aa76133-fe42-409e-9949-a817a08e54d0": {
       "attrs": {
        "height": 0.8,
        "width": 0.8,
        "x": 0.1,
        "y": 0.1
       },
       "content": {
        "cell": "98164611-11fb-4a57-a41a-b3a955f1d60f",
        "part": "whole"
       },
       "id": "3aa76133-fe42-409e-9949-a817a08e54d0"
      }
     }
    },
    "97d8d8d4-b770-4594-94a0-43dd3dbcb5e1": {
     "id": "97d8d8d4-b770-4594-94a0-43dd3dbcb5e1",
     "prev": "0334a112-ce14-453c-aebb-7292f5785691",
     "regions": {
      "b54182d8-6469-428b-b418-519ccdd06c39": {
       "attrs": {
        "height": 0.8,
        "width": 0.8,
        "x": 0.1,
        "y": 0.1
       },
       "content": {
        "cell": "3355b5ea-e61b-4e2f-b896-2e04f2bbcc47",
        "part": "whole"
       },
       "id": "b54182d8-6469-428b-b418-519ccdd06c39"
      }
     }
    },
    "9a2b845e-72b8-4238-a2ce-04779fa3de39": {
     "id": "9a2b845e-72b8-4238-a2ce-04779fa3de39",
     "prev": "5e451f84-348e-4eb6-a9fb-dd7479ba9ba6",
     "regions": {
      "67691348-67e5-4afc-ab6f-21e444c14977": {
       "attrs": {
        "height": 0.8,
        "width": 0.8,
        "x": 0.1,
        "y": 0.1
       },
       "content": {
        "cell": "2a6db766-300c-4f9d-9616-c54f6cfad415",
        "part": "whole"
       },
       "id": "67691348-67e5-4afc-ab6f-21e444c14977"
      }
     }
    },
    "9ce44d57-44b3-4cda-a737-8241ab626a83": {
     "id": "9ce44d57-44b3-4cda-a737-8241ab626a83",
     "prev": "e6bbc00d-ea1c-4bb2-90d7-b45ea909437c",
     "regions": {
      "aedcdded-448e-4513-b305-4ea9bec90fee": {
       "attrs": {
        "height": 0.8,
        "width": 0.8,
        "x": 0.1,
        "y": 0.1
       },
       "content": {
        "cell": "99b70b9c-2d38-41a0-8710-8d56bb858a96",
        "part": "whole"
       },
       "id": "aedcdded-448e-4513-b305-4ea9bec90fee"
      }
     }
    },
    "9f6b6adf-3753-4684-bcbe-1fcf9aa45d0e": {
     "id": "9f6b6adf-3753-4684-bcbe-1fcf9aa45d0e",
     "prev": "56a91290-5464-4bec-9589-280d25073088",
     "regions": {
      "6c975beb-2a4d-419b-a017-43f8ad2775b9": {
       "attrs": {
        "height": 0.8,
        "width": 0.8,
        "x": 0.1,
        "y": 0.1
       },
       "content": {
        "cell": "60acf42b-7818-4a11-b757-c03b028457a5",
        "part": "whole"
       },
       "id": "6c975beb-2a4d-419b-a017-43f8ad2775b9"
      }
     }
    },
    "a3c04c7b-c810-4e4a-87f0-2bb8639fa716": {
     "id": "a3c04c7b-c810-4e4a-87f0-2bb8639fa716",
     "prev": "a540aa03-05a1-42dc-a1fb-b0dd9eeb965f",
     "regions": {
      "b487a132-7273-4247-aed1-787346caac4b": {
       "attrs": {
        "height": 0.8,
        "width": 0.8,
        "x": 0.1,
        "y": 0.1
       },
       "content": {
        "cell": "4bf3cf83-e40d-4649-9baa-37ebf76dbf95",
        "part": "whole"
       },
       "id": "b487a132-7273-4247-aed1-787346caac4b"
      }
     }
    },
    "a3f3f0cb-723e-46a4-9fe5-c01604ad859d": {
     "id": "a3f3f0cb-723e-46a4-9fe5-c01604ad859d",
     "prev": "a6f40d59-0d5a-4fd1-9ea7-fafecf456859",
     "regions": {
      "236ff4e2-4db5-4494-9611-ea36618fb19e": {
       "attrs": {
        "height": 0.8,
        "width": 0.8,
        "x": 0.1,
        "y": 0.1
       },
       "content": {
        "cell": "8fc2ae8f-0491-4eb0-a51a-538f7071da18",
        "part": "whole"
       },
       "id": "236ff4e2-4db5-4494-9611-ea36618fb19e"
      }
     }
    },
    "a540aa03-05a1-42dc-a1fb-b0dd9eeb965f": {
     "id": "a540aa03-05a1-42dc-a1fb-b0dd9eeb965f",
     "prev": "8c4dc6a9-7c10-4ba1-80be-dda22afa4539",
     "regions": {
      "ee3f7af6-9fc9-47e6-880b-3948e7d90eda": {
       "attrs": {
        "height": 0.8,
        "width": 0.8,
        "x": 0.1,
        "y": 0.1
       },
       "content": {
        "cell": "faf05a56-e266-4e91-bf1a-eac772bd0eb5",
        "part": "whole"
       },
       "id": "ee3f7af6-9fc9-47e6-880b-3948e7d90eda"
      }
     }
    },
    "a6f40d59-0d5a-4fd1-9ea7-fafecf456859": {
     "id": "a6f40d59-0d5a-4fd1-9ea7-fafecf456859",
     "prev": "d4985570-85cf-47bc-86c4-8ecf272c94c9",
     "regions": {
      "2f75af40-fbee-4313-ae6d-f466e2469f1b": {
       "attrs": {
        "height": 0.8,
        "width": 0.8,
        "x": 0.1,
        "y": 0.1
       },
       "content": {
        "cell": "0778f9e0-e664-49ef-9116-0f885837bcd9",
        "part": "whole"
       },
       "id": "2f75af40-fbee-4313-ae6d-f466e2469f1b"
      }
     }
    },
    "af872c88-88b3-4a22-a065-4fe3d3fdd782": {
     "id": "af872c88-88b3-4a22-a065-4fe3d3fdd782",
     "prev": "2ce03753-144e-4d3c-9a63-4348a6ed29bf",
     "regions": {
      "57a392bd-3477-4279-8a03-9ce18d34a1a1": {
       "attrs": {
        "height": 0.8,
        "width": 0.8,
        "x": 0.1,
        "y": 0.1
       },
       "content": {
        "cell": "02fc35bc-25b1-468b-9efb-c777d326e3dd",
        "part": "whole"
       },
       "id": "57a392bd-3477-4279-8a03-9ce18d34a1a1"
      }
     }
    },
    "b6e0855d-944b-4190-9a95-eedcac6518b0": {
     "id": "b6e0855d-944b-4190-9a95-eedcac6518b0",
     "prev": "7f416da0-3b7c-4a70-ae86-2b6d37895f60",
     "regions": {
      "b5b8c02d-e933-486d-9f0d-c1630f54e2c0": {
       "attrs": {
        "height": 0.8,
        "width": 0.8,
        "x": 0.1,
        "y": 0.1
       },
       "content": {
        "cell": "d42fd40a-2afc-4201-b5e1-ab80c6e877d7",
        "part": "whole"
       },
       "id": "b5b8c02d-e933-486d-9f0d-c1630f54e2c0"
      }
     }
    },
    "b77bc0bb-ef19-461c-a9db-96c833f6c9f6": {
     "id": "b77bc0bb-ef19-461c-a9db-96c833f6c9f6",
     "prev": "110c6808-b49b-4570-bfed-1af874243341",
     "regions": {
      "f4b3d292-f63b-4f28-b74d-886253fcbc1d": {
       "attrs": {
        "height": 0.8,
        "width": 0.8,
        "x": 0.1,
        "y": 0.1
       },
       "content": {
        "cell": "d4def9a7-4577-4085-aa4c-6ca748a80ece",
        "part": "whole"
       },
       "id": "f4b3d292-f63b-4f28-b74d-886253fcbc1d"
      }
     }
    },
    "b8f5ba27-796d-4f60-99e2-612e3f8c5e74": {
     "id": "b8f5ba27-796d-4f60-99e2-612e3f8c5e74",
     "prev": "d814e05a-edde-48a4-b903-09d4fa7ef045",
     "regions": {
      "f4df1085-4870-4c21-bb97-93d3e93512c3": {
       "attrs": {
        "height": 0.8,
        "width": 0.8,
        "x": 0.1,
        "y": 0.1
       },
       "content": {
        "cell": "15cdfd5d-9e0a-4be2-8b6c-7d4e8ec0d8b1",
        "part": "whole"
       },
       "id": "f4df1085-4870-4c21-bb97-93d3e93512c3"
      }
     }
    },
    "d3139093-7da9-4b59-82d9-34bacd84d4b9": {
     "id": "d3139093-7da9-4b59-82d9-34bacd84d4b9",
     "prev": "5e6c20d1-3980-48d9-896d-05a9ff0dae6f",
     "regions": {
      "04ddaff5-a640-4cc2-85ba-e87a601e91e9": {
       "attrs": {
        "height": 0.8,
        "width": 0.8,
        "x": 0.1,
        "y": 0.1
       },
       "content": {
        "cell": "6d31a424-3c0e-42eb-97b1-0943fdf97640",
        "part": "whole"
       },
       "id": "04ddaff5-a640-4cc2-85ba-e87a601e91e9"
      }
     }
    },
    "d4985570-85cf-47bc-86c4-8ecf272c94c9": {
     "id": "d4985570-85cf-47bc-86c4-8ecf272c94c9",
     "prev": "f0bb63f9-9910-481d-96f0-a9802df7bf67",
     "regions": {
      "3aaf7de8-4d24-4ee4-821c-77bba05cb54c": {
       "attrs": {
        "height": 0.8,
        "width": 0.8,
        "x": 0.1,
        "y": 0.1
       },
       "content": {
        "cell": "1cb11114-547a-4836-8f1d-098a9046739f",
        "part": "whole"
       },
       "id": "3aaf7de8-4d24-4ee4-821c-77bba05cb54c"
      }
     }
    },
    "d814e05a-edde-48a4-b903-09d4fa7ef045": {
     "id": "d814e05a-edde-48a4-b903-09d4fa7ef045",
     "prev": "b6e0855d-944b-4190-9a95-eedcac6518b0",
     "regions": {
      "e82c252c-8482-49bc-918b-627f6693f3ad": {
       "attrs": {
        "height": 0.8,
        "width": 0.8,
        "x": 0.1,
        "y": 0.1
       },
       "content": {
        "cell": "65521161-1b86-46ca-bb98-b32313571594",
        "part": "whole"
       },
       "id": "e82c252c-8482-49bc-918b-627f6693f3ad"
      }
     }
    },
    "e2c651fa-210d-4e6f-977d-8b78a35ef65c": {
     "id": "e2c651fa-210d-4e6f-977d-8b78a35ef65c",
     "prev": "ff1dfd6b-0436-499f-b2d9-84f45a446af3",
     "regions": {
      "20a8a7b9-8fff-496d-a450-dc137c2fa015": {
       "attrs": {
        "height": 0.8,
        "width": 0.8,
        "x": 0.1,
        "y": 0.1
       },
       "content": {
        "cell": "a9af1777-ef2b-4bad-8b4c-a59c10438342",
        "part": "whole"
       },
       "id": "20a8a7b9-8fff-496d-a450-dc137c2fa015"
      }
     }
    },
    "e3578854-3d2d-4ef4-a95d-d32aae48e530": {
     "id": "e3578854-3d2d-4ef4-a95d-d32aae48e530",
     "prev": "f0d3952b-f6f6-4e4c-be9f-38bdb80b639a",
     "regions": {
      "2fdd3848-f035-4785-9232-cfc8183cafdb": {
       "attrs": {
        "height": 0.8,
        "width": 0.8,
        "x": 0.1,
        "y": 0.1
       },
       "content": {
        "cell": "b1a73d48-8bea-4839-a86b-c7927486a81b",
        "part": "whole"
       },
       "id": "2fdd3848-f035-4785-9232-cfc8183cafdb"
      }
     }
    },
    "e6bbc00d-ea1c-4bb2-90d7-b45ea909437c": {
     "id": "e6bbc00d-ea1c-4bb2-90d7-b45ea909437c",
     "prev": "9f6b6adf-3753-4684-bcbe-1fcf9aa45d0e",
     "regions": {
      "6639f56d-2b2f-4194-92a8-dbcb2c0f6c2f": {
       "attrs": {
        "height": 0.8,
        "width": 0.8,
        "x": 0.1,
        "y": 0.1
       },
       "content": {
        "cell": "adfbdfd4-143d-4811-a42a-cea93999b640",
        "part": "whole"
       },
       "id": "6639f56d-2b2f-4194-92a8-dbcb2c0f6c2f"
      }
     }
    },
    "e8eb3668-2b14-4799-94a6-1bfe180e6fa5": {
     "id": "e8eb3668-2b14-4799-94a6-1bfe180e6fa5",
     "prev": "5f0af84e-a37e-42e2-9958-f5aced780924",
     "regions": {
      "cf17c7a8-2052-471b-b913-bf75227bf092": {
       "attrs": {
        "height": 0.8,
        "width": 0.8,
        "x": 0.1,
        "y": 0.1
       },
       "content": {
        "cell": "86c37894-9def-4a90-afae-b415d548696d",
        "part": "whole"
       },
       "id": "cf17c7a8-2052-471b-b913-bf75227bf092"
      }
     }
    },
    "f06b8442-07af-49e9-ba93-cc36341b1338": {
     "id": "f06b8442-07af-49e9-ba93-cc36341b1338",
     "prev": "6b51b6a9-84de-4bfa-916a-8485f38fb2df",
     "regions": {
      "aaf1b505-01a5-49fb-b2d5-000582ca4e23": {
       "attrs": {
        "height": 0.8,
        "width": 0.8,
        "x": 0.1,
        "y": 0.1
       },
       "content": {
        "cell": "c6845220-e895-452b-9c01-2919ba005c4d",
        "part": "whole"
       },
       "id": "aaf1b505-01a5-49fb-b2d5-000582ca4e23"
      }
     }
    },
    "f0bb63f9-9910-481d-96f0-a9802df7bf67": {
     "id": "f0bb63f9-9910-481d-96f0-a9802df7bf67",
     "prev": "af872c88-88b3-4a22-a065-4fe3d3fdd782",
     "regions": {
      "1fe5bfe7-3a3a-4eab-829d-a9564a7eeac8": {
       "attrs": {
        "height": 0.8,
        "width": 0.8,
        "x": 0.1,
        "y": 0.1
       },
       "content": {
        "cell": "cd234cfe-75d0-4f8c-8ad8-5e7d14b0bf2d",
        "part": "whole"
       },
       "id": "1fe5bfe7-3a3a-4eab-829d-a9564a7eeac8"
      }
     }
    },
    "f0d3952b-f6f6-4e4c-be9f-38bdb80b639a": {
     "id": "f0d3952b-f6f6-4e4c-be9f-38bdb80b639a",
     "prev": "f56fba04-d8fa-40fa-8ec3-e8d758b0ac85",
     "regions": {
      "f861dfa5-2792-42d3-ad7b-8b4cc2a3ca0b": {
       "attrs": {
        "height": 0.8,
        "width": 0.8,
        "x": 0.1,
        "y": 0.1
       },
       "content": {
        "cell": "23784311-0642-403b-b504-7cdde47b2bdb",
        "part": "whole"
       },
       "id": "f861dfa5-2792-42d3-ad7b-8b4cc2a3ca0b"
      }
     }
    },
    "f56fba04-d8fa-40fa-8ec3-e8d758b0ac85": {
     "id": "f56fba04-d8fa-40fa-8ec3-e8d758b0ac85",
     "prev": "8b21127c-1bb0-4db6-8a11-1830efac7b4b",
     "regions": {
      "c2dc19e6-45b7-4df7-9df9-235f7364169c": {
       "attrs": {
        "height": 0.8,
        "width": 0.8,
        "x": 0.1,
        "y": 0.1
       },
       "content": {
        "cell": "edbbb850-c90e-45ec-9206-4f021126d9e6",
        "part": "whole"
       },
       "id": "c2dc19e6-45b7-4df7-9df9-235f7364169c"
      }
     }
    },
    "f8624038-7e5b-4b89-a178-732751c42aea": {
     "id": "f8624038-7e5b-4b89-a178-732751c42aea",
     "prev": null,
     "regions": {
      "d565a702-a3d4-4731-a5e7-21e1aaed583c": {
       "attrs": {
        "height": 0.8,
        "width": 0.8,
        "x": 0.1,
        "y": 0.1
       },
       "content": {
        "cell": "7509468e-efd5-4a7d-8c54-1dbbe2907fa9",
        "part": "whole"
       },
       "id": "d565a702-a3d4-4731-a5e7-21e1aaed583c"
      }
     }
    },
    "f90eea6c-a4b2-48ca-a323-c757e9cd247a": {
     "id": "f90eea6c-a4b2-48ca-a323-c757e9cd247a",
     "prev": "971561a4-9f47-4cb1-90fd-3cbee0c39e17",
     "regions": {
      "bd62944e-3025-4975-a8be-517fbf2fa775": {
       "attrs": {
        "height": 0.8,
        "width": 0.8,
        "x": 0.1,
        "y": 0.1
       },
       "content": {
        "cell": "e8c6fb01-0de4-4009-9375-f5104c46219c",
        "part": "whole"
       },
       "id": "bd62944e-3025-4975-a8be-517fbf2fa775"
      }
     }
    },
    "fcff6d63-61ed-4165-bae2-3c753c394f54": {
     "id": "fcff6d63-61ed-4165-bae2-3c753c394f54",
     "prev": "101c75d5-7e5d-4180-929c-c402595331d5",
     "regions": {
      "bdb84a68-fe9f-407e-afa0-f5e0157b04c1": {
       "attrs": {
        "height": 0.8,
        "width": 0.8,
        "x": 0.1,
        "y": 0.1
       },
       "content": {
        "cell": "124e19a3-0610-4895-8495-dbab9bb8f88a",
        "part": "whole"
       },
       "id": "bdb84a68-fe9f-407e-afa0-f5e0157b04c1"
      }
     }
    },
    "ff1dfd6b-0436-499f-b2d9-84f45a446af3": {
     "id": "ff1dfd6b-0436-499f-b2d9-84f45a446af3",
     "prev": "4b2e10f5-500d-4335-96e5-4f9e8ebee0e9",
     "regions": {
      "98daf55c-b961-4e04-9f72-2afeafbcc25e": {
       "attrs": {
        "height": 0.8,
        "width": 0.8,
        "x": 0.1,
        "y": 0.1
       },
       "content": {
        "cell": "cc520f14-9804-4836-838c-302d17c20d67",
        "part": "whole"
       },
       "id": "98daf55c-b961-4e04-9f72-2afeafbcc25e"
      }
     }
    }
   },
   "themes": {}
  }
 },
 "nbformat": 4,
 "nbformat_minor": 1
}
