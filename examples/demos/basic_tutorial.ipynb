{
 "cells": [
  {
   "cell_type": "markdown",
   "metadata": {
    "tags": [],
    "toc-hr-collapsed": true
   },
   "source": [
    "# WNTR Tutorial"
   ]
  },
  {
   "cell_type": "markdown",
   "metadata": {
    "tags": []
   },
   "source": [
    "## Imports\n",
    "Import WNTR and additional Python packages that are needed for the tutorial\n",
    "- Numpy is required to support numerical analysis\n",
    "- Matplotlib is used for graphics\n",
    "- Scipy is used to define lognormal fragility curves"
   ]
  },
  {
   "cell_type": "code",
   "execution_count": 2,
   "metadata": {},
   "outputs": [],
   "source": [
    "import numpy as np\n",
    "import matplotlib.pylab as plt\n",
    "from scipy.stats import lognorm\n",
    "import wntr"
   ]
  },
  {
   "cell_type": "code",
   "execution_count": 3,
   "metadata": {
    "tags": []
   },
   "outputs": [],
   "source": [
    "# The following function is used below to extract public properties and methods on WNTR objects\n",
    "def dir_public(obj):\n",
    "    return [name for name in dir(obj) if not name.startswith('_')]"
   ]
  },
  {
   "cell_type": "markdown",
   "metadata": {
    "tags": []
   },
   "source": [
    "# 1. Water Network Model"
   ]
  },
  {
   "cell_type": "markdown",
   "metadata": {},
   "source": [
    "The `WaterNetworkModel` object defines the water distribution system and simulation options. The object can be created from an EPANET INP file."
   ]
  },
  {
   "cell_type": "code",
   "execution_count": 4,
   "metadata": {},
   "outputs": [],
   "source": [
    "# Create water network model from an INP file\n",
    "wn = wntr.network.WaterNetworkModel('../networks/Net3.inp')"
   ]
  },
  {
   "cell_type": "code",
   "execution_count": 5,
   "metadata": {},
   "outputs": [
    {
     "data": {
      "text/plain": [
       "{'Nodes': {'Junctions': 92, 'Tanks': 3, 'Reservoirs': 2},\n",
       " 'Links': {'Pipes': 117, 'Pumps': 2, 'Valves': 0},\n",
       " 'Patterns': 5,\n",
       " 'Curves': {'Pump': 2, 'Efficiency': 0, 'Headloss': 0, 'Volume': 0},\n",
       " 'Sources': 0,\n",
       " 'Controls': 18}"
      ]
     },
     "execution_count": 5,
     "metadata": {},
     "output_type": "execute_result"
    }
   ],
   "source": [
    "# Basic description of the model\n",
    "wn.describe(level=1)"
   ]
  },
  {
   "cell_type": "code",
   "execution_count": 6,
   "metadata": {
    "collapsed": true,
    "jupyter": {
     "outputs_hidden": true
    },
    "tags": []
   },
   "outputs": [
    {
     "data": {
      "text/plain": [
       "['add_control',\n",
       " 'add_curve',\n",
       " 'add_junction',\n",
       " 'add_pattern',\n",
       " 'add_pipe',\n",
       " 'add_pump',\n",
       " 'add_reservoir',\n",
       " 'add_source',\n",
       " 'add_tank',\n",
       " 'add_valve',\n",
       " 'assign_demand',\n",
       " 'control_name_list',\n",
       " 'controls',\n",
       " 'convert_controls_to_rules',\n",
       " 'curve_name_list',\n",
       " 'curves',\n",
       " 'describe',\n",
       " 'fcv_name_list',\n",
       " 'fcvs',\n",
       " 'from_dict',\n",
       " 'from_gis',\n",
       " 'get_control',\n",
       " 'get_curve',\n",
       " 'get_graph',\n",
       " 'get_link',\n",
       " 'get_links_for_node',\n",
       " 'get_node',\n",
       " 'get_pattern',\n",
       " 'get_source',\n",
       " 'gpv_name_list',\n",
       " 'gpvs',\n",
       " 'head_pump_name_list',\n",
       " 'head_pumps',\n",
       " 'junction_name_list',\n",
       " 'junctions',\n",
       " 'link_name_list',\n",
       " 'links',\n",
       " 'name',\n",
       " 'node_name_list',\n",
       " 'nodes',\n",
       " 'num_controls',\n",
       " 'num_curves',\n",
       " 'num_junctions',\n",
       " 'num_links',\n",
       " 'num_nodes',\n",
       " 'num_patterns',\n",
       " 'num_pipes',\n",
       " 'num_pumps',\n",
       " 'num_reservoirs',\n",
       " 'num_sources',\n",
       " 'num_tanks',\n",
       " 'num_valves',\n",
       " 'options',\n",
       " 'pattern_name_list',\n",
       " 'patterns',\n",
       " 'pbv_name_list',\n",
       " 'pbvs',\n",
       " 'pipe_name_list',\n",
       " 'pipes',\n",
       " 'power_pump_name_list',\n",
       " 'power_pumps',\n",
       " 'prv_name_list',\n",
       " 'prvs',\n",
       " 'psv_name_list',\n",
       " 'psvs',\n",
       " 'pump_name_list',\n",
       " 'pumps',\n",
       " 'query_link_attribute',\n",
       " 'query_node_attribute',\n",
       " 'remove_control',\n",
       " 'remove_curve',\n",
       " 'remove_link',\n",
       " 'remove_node',\n",
       " 'remove_pattern',\n",
       " 'remove_source',\n",
       " 'reservoir_name_list',\n",
       " 'reservoirs',\n",
       " 'reset_initial_values',\n",
       " 'sim_time',\n",
       " 'source_name_list',\n",
       " 'sources',\n",
       " 'tank_name_list',\n",
       " 'tanks',\n",
       " 'tcv_name_list',\n",
       " 'tcvs',\n",
       " 'title',\n",
       " 'to_dict',\n",
       " 'to_gis',\n",
       " 'to_graph',\n",
       " 'valve_name_list',\n",
       " 'valves']"
      ]
     },
     "execution_count": 6,
     "metadata": {},
     "output_type": "execute_result"
    }
   ],
   "source": [
    "# Explore properties and methods associated with the WaterNetworkModel\n",
    "dir_public(wn)"
   ]
  },
  {
   "cell_type": "code",
   "execution_count": 7,
   "metadata": {
    "collapsed": true,
    "jupyter": {
     "outputs_hidden": true
    },
    "tags": []
   },
   "outputs": [
    {
     "data": {
      "image/png": "[encoded data removed]",
      "text/plain": [
       "<Figure size 640x480 with 1 Axes>"
      ]
     },
     "metadata": {},
     "output_type": "display_data"
    }
   ],
   "source": [
    "# Basic network graphic\n",
    "ax = wntr.graphics.plot_network(wn, "
   ]
  },
  {
   "cell_type": "markdown",
   "metadata": {
    "tags": []
   },
   "source": [
    "## Nodes\n",
    "Nodes describe junctions, tanks, and reservoirs"
   ]
  },
  {
   "cell_type": "code",
   "execution_count": 8,
   "metadata": {
    "tags": []
   },
   "outputs": [
    {
     "name": "stdout",
     "output_type": "stream",
     "text": [
      "Node names ['10', '15', '20', '35', '40', '50', '60', '601', '61', '101', '103', '105', '107', '109', '111', '113', '115', '117', '119', '120', '121', '123', '125', '127', '129', '131', '139', '141', '143', '145', '147', '149', '151', '153', '157', '159', '161', '163', '164', '166', '167', '169', '171', '173', '177', '179', '181', '183', '184', '185', '187', '189', '191', '193', '195', '197', '199', '201', '203', '204', '205', '206', '207', '208', '209', '211', '213', '215', '217', '219', '225', '229', '231', '237', '239', '241', '243', '247', '249', '251', '253', '255', '257', '259', '261', '263', '265', '267', '269', '271', '273', '275', 'River', 'Lake', '1', '2', '3']\n"
     ]
    }
   ],
   "source": [
    "# Print the names of all junctions, tanks, and reservoirs\n",
    "print(\"Node names\", wn.node_name_list)"
   ]
  },
  {
   "cell_type": "code",
   "execution_count": 9,
   "metadata": {},
   "outputs": [
    {
     "name": "stdout",
     "output_type": "stream",
     "text": [
      "Tank names ['1', '2', '3']\n"
     ]
    }
   ],
   "source": [
    "# Print the names of just tanks\n",
    "print(\"Tank names\", wn.tank_name_list)"
   ]
  },
  {
   "cell_type": "code",
   "execution_count": 10,
   "metadata": {},
   "outputs": [
    {
     "name": "stdout",
     "output_type": "stream",
     "text": [
      "<class 'wntr.network.elements.Tank'>\n",
      "['add_leak', 'bulk_coeff', 'coordinates', 'demand', 'diameter', 'elevation', 'get_volume', 'head', 'init_level', 'initial_quality', 'leak_area', 'leak_demand', 'leak_discharge_coeff', 'leak_status', 'level', 'max_level', 'min_level', 'min_vol', 'mixing_fraction', 'mixing_model', 'name', 'node_type', 'overflow', 'pressure', 'quality', 'remove_leak', 'tag', 'to_dict', 'to_ref', 'vol_curve', 'vol_curve_name']\n"
     ]
    }
   ],
   "source": [
    "# Get a tank object, check its type, print properties and methods\n",
    "tank = wn.get_node('1')\n",
    "print(type(tank))\n",
    "print(dir_public(tank))"
   ]
  },
  {
   "cell_type": "code",
   "execution_count": 11,
   "metadata": {
    "tags": []
   },
   "outputs": [
    {
     "name": "stdout",
     "output_type": "stream",
     "text": [
      "Original max level 9.784080000000001\n",
      "New max level 10\n"
     ]
    }
   ],
   "source": [
    "# Change the max level\n",
    "print(\"Original max level\", tank.max_level)\n",
    "tank.max_level = 10\n",
    "print(\"New max level\", tank.max_level)"
   ]
  },
  {
   "cell_type": "code",
   "execution_count": 20,
   "metadata": {
    "tags": []
   },
   "outputs": [],
   "source": [
    "# Add a junction\n",
    "wn.add_junction('new_junction', base_demand=0.0, demand_pattern=None, elevation=0.0, coordinates=None, demand_category=None)"
   ]
  },
  {
   "cell_type": "code",
   "execution_count": 21,
   "metadata": {
    "tags": []
   },
   "outputs": [],
   "source": [
    "# Remove a junction (as a node)\n",
    "wn.remove_node('new_junction')"
   ]
  },
  {
   "cell_type": "markdown",
   "metadata": {},
   "source": [
    "## Links"
   ]
  },
  {
   "cell_type": "markdown",
   "metadata": {},
   "source": [
    "Links describe pipes, pumps, and valves"
   ]
  },
  {
   "cell_type": "code",
   "execution_count": 14,
   "metadata": {
    "tags": []
   },
   "outputs": [
    {
     "name": "stdout",
     "output_type": "stream",
     "text": [
      "Link names ['20', '40', '50', '60', '101', '103', '105', '107', '109', '111', '112', '113', '114', '115', '116', '117', '119', '120', '121', '122', '123', '125', '129', '131', '133', '135', '137', '145', '147', '149', '151', '153', '155', '159', '161', '163', '169', '171', '173', '175', '177', '179', '180', '181', '183', '185', '186', '187', '189', '191', '193', '195', '197', '199', '201', '202', '203', '204', '205', '207', '209', '211', '213', '215', '217', '219', '221', '223', '225', '229', '231', '233', '235', '237', '238', '239', '240', '241', '243', '245', '247', '249', '251', '257', '261', '263', '269', '271', '273', '275', '277', '281', '283', '285', '287', '289', '291', '293', '295', '297', '299', '301', '303', '305', '307', '309', '311', '313', '315', '317', '319', '321', '323', '325', '329', '330', '333', '10', '335']\n"
     ]
    }
   ],
   "source": [
    "# Print the names of all links\n",
    "print(\"Link names\", wn.link_name_list)"
   ]
  },
  {
   "cell_type": "code",
   "execution_count": 15,
   "metadata": {
    "tags": []
   },
   "outputs": [
    {
     "name": "stdout",
     "output_type": "stream",
     "text": [
      "Head pump names ['10', '335']\n"
     ]
    }
   ],
   "source": [
    "# Print the names of just head pumps\n",
    "print(\"Head pump names\", wn.head_pump_name_list)"
   ]
  },
  {
   "cell_type": "code",
   "execution_count": 16,
   "metadata": {},
   "outputs": [
    {
     "name": "stdout",
     "output_type": "stream",
     "text": [
      "Links connected to node 229 = ['261', '263', '271']\n"
     ]
    }
   ],
   "source": [
    "# Get the name of links connected to a specific node\n",
    "connected_links = wn.get_links_for_node('229')\n",
    "print('Links connected to node 229 =', connected_links)"
   ]
  },
  {
   "cell_type": "code",
   "execution_count": 17,
   "metadata": {
    "tags": []
   },
   "outputs": [
    {
     "name": "stdout",
     "output_type": "stream",
     "text": [
      "<class 'wntr.network.elements.Pipe'>\n",
      "['bulk_coeff', 'check_valve', 'cv', 'diameter', 'end_node', 'end_node_name', 'flow', 'friction_factor', 'headloss', 'initial_setting', 'initial_status', 'length', 'link_type', 'minor_loss', 'name', 'quality', 'reaction_rate', 'roughness', 'setting', 'start_node', 'start_node_name', 'status', 'tag', 'to_dict', 'to_ref', 'velocity', 'vertices', 'wall_coeff']\n"
     ]
    }
   ],
   "source": [
    "# Get a pipe object, check its type, print properties and methods\n",
    "pipe = wn.get_link('105')\n",
    "print(type(pipe))\n",
    "print(dir_public(pipe))"
   ]
  },
  {
   "cell_type": "code",
   "execution_count": 18,
   "metadata": {
    "tags": []
   },
   "outputs": [
    {
     "name": "stdout",
     "output_type": "stream",
     "text": [
      "Original diameter 0.30479999999999996\n",
      "New diameter 10\n"
     ]
    }
   ],
   "source": [
    "# Change the diameter\n",
    "print(\"Original diameter\", pipe.diameter)\n",
    "pipe.diameter = 10\n",
    "print(\"New diameter\", pipe.diameter)"
   ]
  },
  {
   "cell_type": "code",
   "execution_count": 27,
   "metadata": {
    "tags": []
   },
   "outputs": [],
   "source": [
    "# Add a pipe\n",
    "wn.add_pipe(name=\"new_pipe\", start_node_name=\"10\", end_node_name=\"123\", length=304.8, diameter=0.3048, roughness=100, minor_loss=0.0, initial_status='OPEN', check_valve=False)"
   ]
  },
  {
   "cell_type": "code",
   "execution_count": 28,
   "metadata": {
    "tags": []
   },
   "outputs": [],
   "source": [
    "# Remove a pipe\n",
    "wn.remove_link(\"new_pipe\")"
   ]
  },
  {
   "cell_type": "markdown",
   "metadata": {
    "tags": []
   },
   "source": [
    "## Demands and Patterns\n",
    "Junctions can have multiple demands which are stored as Timeseries objects in a `demand_timeseries_list`. Each Timeseries contains a base value, pattern, and category.  Patterns contain multiliers and the pattern timestep.  \n",
    "\n",
    "The following illustrates how to\n",
    "* Compute expected demand (which accounts for base demand, demand patterns, and demand multiplier)\n",
    "* Compute average expected demand (average value for a 24 hour period, also accounts for base demand, demand patterns, and demand multiplier)\n",
    "* Add demands to a junction\n",
    "* Modify demand base value and pattern\n",
    "* Remove demands from a junction\n",
    "* Plot expected and simulated demands"
   ]
  },
  {
   "cell_type": "code",
   "execution_count": 29,
   "metadata": {},
   "outputs": [
    {
     "name": "stdout",
     "output_type": "stream",
     "text": [
      "          10        15   20        35   40   50   60  601   61       101  ...  \\\n",
      "0.0      0.0  0.039116  0.0  0.103279  0.0  0.0  0.0  0.0  0.0  0.016059  ...   \n",
      "3600.0   0.0  0.039116  0.0  0.107632  0.0  0.0  0.0  0.0  0.0  0.023249  ...   \n",
      "7200.0   0.0  0.039116  0.0  0.108452  0.0  0.0  0.0  0.0  0.0  0.017497  ...   \n",
      "10800.0  0.0  0.039116  0.0  0.108452  0.0  0.0  0.0  0.0  0.0  0.017257  ...   \n",
      "14400.0  0.0  0.039116  0.0  0.112995  0.0  0.0  0.0  0.0  0.0  0.009108  ...   \n",
      "\n",
      "         257  259  261  263  265  267  269  271  273  275  \n",
      "0.0      0.0  0.0  0.0  0.0  0.0  0.0  0.0  0.0  0.0  0.0  \n",
      "3600.0   0.0  0.0  0.0  0.0  0.0  0.0  0.0  0.0  0.0  0.0  \n",
      "7200.0   0.0  0.0  0.0  0.0  0.0  0.0  0.0  0.0  0.0  0.0  \n",
      "10800.0  0.0  0.0  0.0  0.0  0.0  0.0  0.0  0.0  0.0  0.0  \n",
      "14400.0  0.0  0.0  0.0  0.0  0.0  0.0  0.0  0.0  0.0  0.0  \n",
      "\n",
      "[5 rows x 92 columns]\n"
     ]
    }
   ],
   "source": [
    "# Compute expected demand\n",
    "expected_demand = wntr.metrics.expected_demand(wn)\n",
    "print(expected_demand.head())"
   ]
  },
  {
   "cell_type": "code",
   "execution_count": 30,
   "metadata": {},
   "outputs": [
    {
     "name": "stdout",
     "output_type": "stream",
     "text": [
      "10    0.000000\n",
      "15    0.016666\n",
      "20    0.000000\n",
      "35    0.108389\n",
      "40    0.000000\n",
      "dtype: float64\n"
     ]
    },
    {
     "data": {
      "image/png": "[encoded data removed]",
      "text/plain": [
       "<Figure size 640x480 with 2 Axes>"
      ]
     },
     "metadata": {},
     "output_type": "display_data"
    }
   ],
   "source": [
    "# Compute and plot average expected demand and \n",
    "AED = wntr.metrics.average_expected_demand(wn)\n",
    "print(AED.head())\n",
    "ax = wntr.graphics.plot_network(wn, node_attribute=AED, node_range=(0,0.025))"
   ]
  },
  {
   "cell_type": "code",
   "execution_count": 31,
   "metadata": {},
   "outputs": [
    {
     "name": "stdout",
     "output_type": "stream",
     "text": [
      "Index(['10', '20', '40', '50', '60', '601', '61', '120', '129', '164', '169',\n",
      "       '173', '179', '181', '183', '184', '187', '195', '204', '206', '208',\n",
      "       '241', '249', '257', '259', '261', '263', '265', '267', '269', '271',\n",
      "       '273', '275'],\n",
      "      dtype='object')\n"
     ]
    },
    {
     "data": {
      "image/png": "[encoded data removed]",
      "text/plain": [
       "<Figure size 640x480 with 1 Axes>"
      ]
     },
     "metadata": {},
     "output_type": "display_data"
    }
   ],
   "source": [
    "# Identify junctions with zero demand\n",
    "zero_demand = AED[AED == 0].index\n",
    "print(zero_demand)\n",
    "ax = wntr.graphics.plot_network(wn, node_attribute=list(zero_demand))"
   ]
  },
  {
   "cell_type": "code",
   "execution_count": 32,
   "metadata": {},
   "outputs": [
    {
     "name": "stdout",
     "output_type": "stream",
     "text": [
      "<Demands: [<TimeSeries: base_value=6.30901964e-05, pattern_name='3', category='None'>]>\n"
     ]
    }
   ],
   "source": [
    "# Get the demands on Junction 15\n",
    "junction = wn.get_node('15')\n",
    "print(junction.demand_timeseries_list)"
   ]
  },
  {
   "cell_type": "code",
   "execution_count": 33,
   "metadata": {
    "tags": []
   },
   "outputs": [
    {
     "data": {
      "text/plain": [
       "<Pattern '3', multipliers=array([620., 620., 620., 620., 620., 360., 360.,   0.,   0.,   0.,   0., 360., 360., 360., 360., 360.,   0.,   0.,   0.,   0.,   0.,   0., 360., 360.])>"
      ]
     },
     "execution_count": 33,
     "metadata": {},
     "output_type": "execute_result"
    }
   ],
   "source": [
    "# Get the pattern associated with the demand\n",
    "pattern = wn.get_pattern(junction.demand_timeseries_list[0].pattern_name)\n",
    "pattern"
   ]
  },
  {
   "cell_type": "code",
   "execution_count": 34,
   "metadata": {},
   "outputs": [
    {
     "name": "stdout",
     "output_type": "stream",
     "text": [
      "<Demands: [<TimeSeries: base_value=0.005, pattern_name='new', category='None'>, <TimeSeries: base_value=0.015, pattern_name='1', category='None'>]>\n"
     ]
    }
   ],
   "source": [
    "# Add a demand\n",
    "junction.add_demand(base=0.015, pattern_name='1')\n",
    "\n",
    "# Modify the base value of the original demand\n",
    "junction.demand_timeseries_list[0].base_value = 0.005\n",
    "\n",
    "# Add a pattern\n",
    "wn.add_pattern('new', [1,1,1,0,0,0,1,0,0.5,0.5,0.5,1])\n",
    "junction.demand_timeseries_list[0].pattern_name = \"new\"\n",
    "print(junction.demand_timeseries_list)"
   ]
  },
  {
   "cell_type": "code",
   "execution_count": 35,
   "metadata": {},
   "outputs": [
    {
     "data": {
      "text/plain": [
       "<Axes: >"
      ]
     },
     "execution_count": 35,
     "metadata": {},
     "output_type": "execute_result"
    },
    {
     "data": {
      "image/png": "[encoded data removed]",
      "text/plain": [
       "<Figure size 640x480 with 1 Axes>"
      ]
     },
     "metadata": {},
     "output_type": "display_data"
    }
   ],
   "source": [
    "# Plot original and modified expected demands\n",
    "new_expected_demand = wntr.metrics.expected_demand(wn) \n",
    "\n",
    "plt.figure()\n",
    "ax = expected_demand.loc[0:48*3600, \"15\"].plot()\n",
    "new_expected_demand.loc[0:48*3600, \"15\"].plot(ax=ax)"
   ]
  },
  {
   "cell_type": "markdown",
   "metadata": {
    "tags": []
   },
   "source": [
    "## Curves"
   ]
  },
  {
   "cell_type": "markdown",
   "metadata": {},
   "source": [
    "Curves are used to define pump head curves, tank volume curves, and pump efficiency curves.  The following example illustrates how to work with pump head curves and tank volume curves."
   ]
  },
  {
   "cell_type": "code",
   "execution_count": 36,
   "metadata": {
    "tags": []
   },
   "outputs": [
    {
     "name": "stdout",
     "output_type": "stream",
     "text": [
      "<class 'wntr.network.elements.HeadPump'>\n"
     ]
    },
    {
     "data": {
      "image/png": "[encoded data removed]",
      "text/plain": [
       "<Figure size 800x400 with 1 Axes>"
      ]
     },
     "metadata": {},
     "output_type": "display_data"
    }
   ],
   "source": [
    "# Get a head pump object\n",
    "pump = wn.get_link('10')\n",
    "print(type(pump))\n",
    "\n",
    "# Plot the head pump curve\n",
    "ax = wntr.graphics.plot_pump_curve(pump)"
   ]
  },
  {
   "cell_type": "code",
   "execution_count": null,
   "metadata": {
    "tags": []
   },
   "outputs": [],
   "source": [
    "# Get the head curve and print the points\n",
    "pump_curve_name = pump.pump_curve_name\n",
    "curve = wn.get_curve(pump_curve_name)\n",
    "print(curve.points)\n",
    "\n",
    "# Modify the curve points and replot the pump curve\n",
    "curve.points = [(0.10, 20)]\n",
    "print(curve.points)\n",
    "ax = wntr.graphics.plot_pump_curve(pump)"
   ]
  },
  {
   "cell_type": "code",
   "execution_count": null,
   "metadata": {
    "tags": []
   },
   "outputs": [],
   "source": [
    "wn.add_curve('new_tank_curve', 'VOLUME', [\n",
    "   (1,  0),\n",
    "   (2,  60),\n",
    "   (3,  188),\n",
    "   (4,  372),\n",
    "   (5,  596),\n",
    "   (6,  848),\n",
    "   (7,  1114),\n",
    "   (8,  1379),\n",
    "   (9,  1631),\n",
    "   (10, 1856),\n",
    "   (11, 2039),\n",
    "   (12, 2168),\n",
    "   (13, 2228)])\n",
    "tank = wn.get_node('2')\n",
    "tank.vol_curve_name = 'new_tank_curve'\n",
    "ax = wntr.graphics.plot_tank_volume_curve(tank)"
   ]
  },
  {
   "cell_type": "markdown",
   "metadata": {},
   "source": [
    "## Controls"
   ]
  },
  {
   "cell_type": "code",
   "execution_count": null,
   "metadata": {
    "tags": []
   },
   "outputs": [],
   "source": [
    "for name, controls in wn.controls():\n",
    "    print(name, controls)"
   ]
  },
  {
   "cell_type": "code",
   "execution_count": null,
   "metadata": {
    "tags": []
   },
   "outputs": [],
   "source": [
    "# Modify a control\n",
    "control = wn.get_control('control 18')\n"
   ]
  },
  {
   "cell_type": "code",
   "execution_count": null,
   "metadata": {
    "tags": []
   },
   "outputs": [],
   "source": [
    "# Add a control\n",
    "\n",
    "# Remove a control"
   ]
  },
  {
   "cell_type": "code",
   "execution_count": null,
   "metadata": {},
   "outputs": [],
   "source": [
    "# Convert controls to rules\n",
    "wn.convert_controls_to_rules()\n",
    "for name, controls in wn.controls():\n",
    "    print(name, controls)"
   ]
  },
  {
   "cell_type": "markdown",
   "metadata": {},
   "source": [
    "## Model I/O"
   ]
  },
  {
   "cell_type": "code",
   "execution_count": null,
   "metadata": {
    "tags": []
   },
   "outputs": [],
   "source": [
    "# Write a INP file from the WaterNetworkModel\n",
    "wntr.network.io.write_inpfile(wn, 'modified_network.inp', units='LPS')"
   ]
  },
  {
   "cell_type": "code",
   "execution_count": null,
   "metadata": {
    "tags": []
   },
   "outputs": [],
   "source": [
    "wn_dict = wn.to_dict()\n",
    "#print(wn_dict)"
   ]
  },
  {
   "cell_type": "code",
   "execution_count": null,
   "metadata": {
    "tags": []
   },
   "outputs": [],
   "source": [
    "#to_graph\n",
    "#write json"
   ]
  },
  {
   "cell_type": "markdown",
   "metadata": {},
   "source": [
    "## Queries"
   ]
  },
  {
   "cell_type": "code",
   "execution_count": null,
   "metadata": {},
   "outputs": [],
   "source": [
    "# Return all pipe diameters\n",
    "all_pipe_diameters = wn.query_link_attribute('diameter')\n",
    "print(all_pipe_diameters.head())"
   ]
  },
  {
   "cell_type": "code",
   "execution_count": null,
   "metadata": {},
   "outputs": [],
   "source": [
    "# Return pipes diameters > 12 inches\n",
    "large_pipe_diameters = wn.query_link_attribute('diameter', np.greater, 12*0.0254)\n",
    "print(large_pipe_diameters.head())"
   ]
  },
  {
   "cell_type": "code",
   "execution_count": null,
   "metadata": {},
   "outputs": [],
   "source": [
    "# Plot large pipes\n",
    "ax = wntr.graphics.plot_network(wn, link_attribute=large_pipe_diameters, node_size=0, \n",
    "                           link_width=2, title=\"Pipes with diameter > 12 inches\")"
   ]
  },
  {
   "cell_type": "markdown",
   "metadata": {
    "tags": []
   },
   "source": [
    "## Loops and generators\n",
    "Loops and generators are commonly used to modify network components or run stochastic simulations"
   ]
  },
  {
   "cell_type": "code",
   "execution_count": null,
   "metadata": {},
   "outputs": [],
   "source": [
    "# Loop over tank names and objects with a generator\n",
    "for name, tank in wn.tanks():\n",
    "    print(\"Max level for tank\", name, \"=\", tank.max_level)"
   ]
  },
  {
   "cell_type": "code",
   "execution_count": null,
   "metadata": {},
   "outputs": [],
   "source": [
    "# Loop over tank names and then get the associated tank object\n",
    "for name in wn.tank_name_list:\n",
    "    tank = wn.get_node(name)\n",
    "    print(\"Max level for tank\", name, \"=\", tank.max_level)"
   ]
  },
  {
   "cell_type": "markdown",
   "metadata": {
    "tags": []
   },
   "source": [
    "## Coordinates"
   ]
  },
  {
   "cell_type": "markdown",
   "metadata": {},
   "source": [
    "## Pipe breaks and leaks"
   ]
  },
  {
   "cell_type": "code",
   "execution_count": null,
   "metadata": {},
   "outputs": [],
   "source": [
    "wn = wntr.morph.split_pipe(wn, '123', '123_B', '123_node')\n",
    "leak_node = wn.get_node('123_node')\n",
    "leak_node.add_leak(wn, area=0.05, start_time=2*3600, end_time=12*3600)"
   ]
  },
  {
   "cell_type": "markdown",
   "metadata": {
    "tags": []
   },
   "source": [
    "# 2. Hydraulic and Water Quality Simulations"
   ]
  },
  {
   "cell_type": "markdown",
   "metadata": {},
   "source": [
    "WNTR includes 2 simulators: the `EpanetSimulator` and the `WNTRSimulator`.  Both include the ability to run pressure dependent demand (PDD) or demand-driven (DD) hydraulic simulation.  Only the EpanetSimulator runs water quality simulations."
   ]
  },
  {
   "cell_type": "code",
   "execution_count": null,
   "metadata": {
    "tags": []
   },
   "outputs": [],
   "source": [
    "# Create water network model from an INP file\n",
    "wn = wntr.network.WaterNetworkModel('../networks/Net3.inp')"
   ]
  },
  {
   "cell_type": "markdown",
   "metadata": {
    "tags": []
   },
   "source": [
    "## Simulation options"
   ]
  },
  {
   "cell_type": "code",
   "execution_count": null,
   "metadata": {
    "tags": []
   },
   "outputs": [],
   "source": [
    "wn.options"
   ]
  },
  {
   "cell_type": "code",
   "execution_count": null,
   "metadata": {},
   "outputs": [],
   "source": [
    "# Set the simulation duration to 4 days\n",
    "wn.options.time.duration = 4*24*3600"
   ]
  },
  {
   "cell_type": "code",
   "execution_count": null,
   "metadata": {
    "tags": []
   },
   "outputs": [],
   "source": [
    "# PDD\n"
   ]
  },
  {
   "cell_type": "markdown",
   "metadata": {},
   "source": [
    "## EPANET and WNTR Simulators"
   ]
  },
  {
   "cell_type": "code",
   "execution_count": null,
   "metadata": {},
   "outputs": [],
   "source": [
    "# Simulate hydraulics using EPANET\n",
    "sim = wntr.sim.EpanetSimulator(wn)\n",
    "results = sim.run_sim()"
   ]
  },
  {
   "cell_type": "markdown",
   "metadata": {
    "tags": []
   },
   "source": [
    "## Simulation results"
   ]
  },
  {
   "cell_type": "code",
   "execution_count": null,
   "metadata": {},
   "outputs": [],
   "source": [
    "# Plot timeseries of tank levels\n",
    "tank_levels = results.node['pressure'].loc[:,wn.tank_name_list]\n",
    "tank_levels.plot(title='Tank level')\n",
    "\n",
    "# Plot timeseries of pump flowrates\n",
    "pump_flowrates = results.link['flowrate'].loc[:,wn.pump_name_list]\n",
    "pump_flowrates.plot(title='Pump flowrate')\n",
    "\n",
    "# Plot pressure at hour 5 on the network\n",
    "pressure_at_5hr = results.node['pressure'].loc[5*3600, :]\n",
    "ax = wntr.graphics.plot_network(wn, node_attribute=pressure_at_5hr, node_size=30, title='Pressure at 5 hours')"
   ]
  },
  {
   "cell_type": "markdown",
   "metadata": {
    "tags": []
   },
   "source": [
    "## Reset initial conditions"
   ]
  },
  {
   "cell_type": "code",
   "execution_count": null,
   "metadata": {
    "tags": []
   },
   "outputs": [],
   "source": [
    "wn.reset_initial_values()"
   ]
  },
  {
   "cell_type": "markdown",
   "metadata": {
    "tags": []
   },
   "source": [
    "# 3. Resilience Metrics"
   ]
  },
  {
   "cell_type": "markdown",
   "metadata": {},
   "source": [
    "## Topographic"
   ]
  },
  {
   "cell_type": "markdown",
   "metadata": {
    "tags": []
   },
   "source": [
    "## Hydraulic"
   ]
  },
  {
   "cell_type": "markdown",
   "metadata": {
    "tags": []
   },
   "source": [
    "# 4. Fragility Curves"
   ]
  },
  {
   "cell_type": "code",
   "execution_count": null,
   "metadata": {
    "tags": []
   },
   "outputs": [],
   "source": [
    "FC = wntr.scenario.FragilityCurve()\n",
    "FC.add_state('Minor', 1, {'Default': lognorm(0.5,scale=0.3)})\n",
    "FC.add_state('Major', 2, {'Default': lognorm(0.5,scale=0.7)})\n",
    "ax = wntr.graphics.plot_fragility_curve(FC, xlabel='Peak Ground Acceleration (g)')"
   ]
  },
  {
   "cell_type": "markdown",
   "metadata": {
    "tags": []
   },
   "source": [
    "# 5. Network Skeletonization"
   ]
  },
  {
   "cell_type": "code",
   "execution_count": null,
   "metadata": {
    "tags": []
   },
   "outputs": [],
   "source": [
    "# Create water network model from an INP file\n",
    "wn = wntr.network.WaterNetworkModel('../networks/Net3.inp')\n",
    "wn.describe(level=1)"
   ]
  },
  {
   "cell_type": "code",
   "execution_count": null,
   "metadata": {
    "tags": []
   },
   "outputs": [],
   "source": [
    "# Skeletonize the network using a 12 inch pipe diameter threshold\n",
    "skel_wn = wntr.morph.skeletonize(wn, 12*0.0254)\n",
    "skel_wn.describe(level=1)"
   ]
  },
  {
   "cell_type": "code",
   "execution_count": null,
   "metadata": {
    "tags": []
   },
   "outputs": [],
   "source": [
    "# Plot the original and skeletonized networks\n",
    "ax = wntr.graphics.plot_network(wn, node_size=10, title='Original')\n",
    "ax = wntr.graphics.plot_network(skel_wn, node_size=10, title='Skeletonized')"
   ]
  },
  {
   "cell_type": "code",
   "execution_count": null,
   "metadata": {
    "tags": []
   },
   "outputs": [],
   "source": [
    "# Simulate hydraulics on the original and skeletonized models and plot average pressure\n",
    "sim = wntr.sim.EpanetSimulator(wn)\n",
    "results_original = sim.run_sim()\n",
    "\n",
    "sim = wntr.sim.EpanetSimulator(skel_wn)\n",
    "results_skel = sim.run_sim()\n",
    "\n",
    "ax = results_original.node['pressure'].mean(axis=1).plot(label='Original')\n",
    "ax = results_skel.node['pressure'].mean(axis=1).plot(ax=ax, label='Skeletonized')\n",
    "plt.legend()"
   ]
  },
  {
   "cell_type": "markdown",
   "metadata": {},
   "source": [
    "# 6. Valve Segmentation"
   ]
  },
  {
   "cell_type": "code",
   "execution_count": null,
   "metadata": {
    "tags": []
   },
   "outputs": [],
   "source": [
    "# Create water network model from an INP file\n",
    "wn = wntr.network.WaterNetworkModel('../networks/Net3.inp')"
   ]
  },
  {
   "cell_type": "code",
   "execution_count": null,
   "metadata": {
    "tags": []
   },
   "outputs": [],
   "source": [
    "# Create a N-2 strategic valve layer\n",
    "valve_layer = wntr.network.generate_valve_layer(wn, 'strategic', 2)\n",
    "ax = wntr.graphics.plot_valve_layer(wn, valve_layer, add_colorbar=False)"
   ]
  },
  {
   "cell_type": "code",
   "execution_count": null,
   "metadata": {
    "tags": []
   },
   "outputs": [],
   "source": [
    "# Identify nodes and links that are in each valve segment\n",
    "G = wn.to_graph()\n",
    "node_segments, link_segments, seg_sizes = wntr.metrics.topographic.valve_segments(G, valve_layer)\n",
    "print('Node segments')\n",
    "print(node_segments)\n",
    "print()\n",
    "print('Link segments')\n",
    "print(link_segments)\n",
    "print()\n",
    "print('Segment sizes')\n",
    "print(seg_sizes)"
   ]
  },
  {
   "cell_type": "code",
   "execution_count": null,
   "metadata": {
    "tags": []
   },
   "outputs": [],
   "source": [
    "N = seg_sizes.shape[0]\n",
    "cmap = wntr.graphics.random_colormap(N) # random color map helps visualize segments\n",
    "ax = wntr.graphics.plot_network(wn, link_attribute=link_segments, node_size=0, link_width=2, link_range=[0,N], \n",
    "                                link_cmap=cmap, link_colorbar_label='Segment ID')\n",
    "ax = wntr.graphics.plot_valve_layer(wn, valve_layer, add_colorbar=False, ax=ax)"
   ]
  },
  {
   "cell_type": "markdown",
   "metadata": {
    "tags": []
   },
   "source": [
    "# 7. Geospatial Capabilities"
   ]
  },
  {
   "cell_type": "code",
   "execution_count": null,
   "metadata": {
    "tags": []
   },
   "outputs": [],
   "source": [
    "# Create water network model from an INP file\n",
    "wn = wntr.network.WaterNetworkModel('../networks/Net3.inp')"
   ]
  },
  {
   "cell_type": "code",
   "execution_count": null,
   "metadata": {},
   "outputs": [],
   "source": [
    "wn_gis = wntr.network.to_gis(wn)\n",
    "print(wn_gis.pipes.head())"
   ]
  },
  {
   "cell_type": "code",
   "execution_count": null,
   "metadata": {},
   "outputs": [],
   "source": []
  },
  {
   "cell_type": "code",
   "execution_count": null,
   "metadata": {},
   "outputs": [],
   "source": []
  }
 ],
 "metadata": {
  "kernelspec": {
   "display_name": "Python 3 (ipykernel)",
   "language": "python",
   "name": "python3"
  },
  "language_info": {
   "codemirror_mode": {
    "name": "ipython",
    "version": 3
   },
   "file_extension": ".py",
   "mimetype": "text/x-python",
   "name": "python",
   "nbconvert_exporter": "python",
   "pygments_lexer": "ipython3",
   "version": "3.11.5"
  },
  "vscode": {
   "interpreter": {
    "hash": "45e5fc2add644b17ca9d771f06d4d0791b1baf8fc0ad9b13d75afaf563ce7ce4"
   }
  }
 },
 "nbformat": 4,
 "nbformat_minor": 4
}
