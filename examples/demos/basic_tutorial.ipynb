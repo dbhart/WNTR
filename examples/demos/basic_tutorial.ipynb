{
 "cells": [
  {
   "cell_type": "markdown",
   "metadata": {
    "tags": [],
    "toc-hr-collapsed": true
   },
   "source": [
    "# WNTR Tutorial"
   ]
  },
  {
   "cell_type": "markdown",
   "metadata": {
    "tags": []
   },
   "source": [
    "## Imports\n",
    "Import WNTR and additional Python packages that are needed for the tutorial\n",
    "- Numpy is required to support numerical analysis\n",
    "- Matplotlib is used for graphics\n",
    "- Scipy is used to define lognormal fragility curves"
   ]
  },
  {
   "cell_type": "code",
   "execution_count": null,
   "metadata": {},
   "outputs": [],
   "source": [
    "import numpy as np\n",
    "import matplotlib.pylab as plt\n",
    "from scipy.stats import lognorm\n",
    "import wntr"
   ]
  },
  {
   "cell_type": "code",
   "execution_count": null,
   "metadata": {
    "tags": []
   },
   "outputs": [],
   "source": [
    "# The following function is used below to extract public properties and methods on WNTR objects\n",
    "def dir_public(obj):\n",
    "    return [name for name in dir(obj) if not name.startswith('_')]"
   ]
  },
  {
   "cell_type": "markdown",
   "metadata": {
    "tags": []
   },
   "source": [
    "# 1. Water Network Model"
   ]
  },
  {
   "cell_type": "markdown",
   "metadata": {},
   "source": [
    "The `WaterNetworkModel` object defines the water distribution system and simulation options. The object can be created from an EPANET INP file."
   ]
  },
  {
   "cell_type": "code",
   "execution_count": null,
   "metadata": {},
   "outputs": [],
   "source": [
    "# Create water network model from an INP file\n",
    "wn = wntr.network.WaterNetworkModel('../networks/Net3.inp')"
   ]
  },
  {
   "cell_type": "code",
   "execution_count": null,
   "metadata": {},
   "outputs": [],
   "source": [
    "# Basic description of the model\n",
    "wn.describe(level=1)"
   ]
  },
  {
   "cell_type": "code",
   "execution_count": null,
   "metadata": {
    "tags": []
   },
   "outputs": [],
   "source": [
    "# Explore properties and methods associated with the WaterNetworkModel\n",
    "dir_public(wn)"
   ]
  },
  {
   "cell_type": "code",
   "execution_count": null,
   "metadata": {
    "tags": []
   },
   "outputs": [],
   "source": [
    "# Basic network graphic\n",
    "ax = wntr.graphics.plot_network(wn)"
   ]
  },
  {
   "cell_type": "markdown",
   "metadata": {
    "tags": []
   },
   "source": [
    "## Nodes\n",
    "Node describe network junctions, tanks, and reservoirs"
   ]
  },
  {
   "cell_type": "code",
   "execution_count": null,
   "metadata": {
    "tags": []
   },
   "outputs": [],
   "source": [
    "# Print the names of all junctions, tanks, and reservoirs\n",
    "print(\"Node names\", wn.node_name_list)"
   ]
  },
  {
   "cell_type": "code",
   "execution_count": null,
   "metadata": {},
   "outputs": [],
   "source": [
    "# Print the names of just tanks\n",
    "print(\"Tank names\", wn.tank_name_list)"
   ]
  },
  {
   "cell_type": "code",
   "execution_count": null,
   "metadata": {},
   "outputs": [],
   "source": [
    "# Get a tank object, check its type, print properties and methods\n",
    "tank = wn.get_node('1')\n",
    "print(type(tank))\n",
    "print(dir_public(tank))"
   ]
  },
  {
   "cell_type": "code",
   "execution_count": null,
   "metadata": {
    "tags": []
   },
   "outputs": [],
   "source": [
    "# Change the max level\n",
    "print(\"Original max level\", tank.max_level)\n",
    "tank.max_level = 10\n",
    "print(\"New max level\", tank.max_level)"
   ]
  },
  {
   "cell_type": "code",
   "execution_count": null,
   "metadata": {
    "tags": []
   },
   "outputs": [],
   "source": [
    "# Add a junction\n",
    "\n",
    "# Remove a junction\n"
   ]
  },
  {
   "cell_type": "markdown",
   "metadata": {},
   "source": [
    "## Links"
   ]
  },
  {
   "cell_type": "markdown",
   "metadata": {},
   "source": [
    "Links describe pipes, pumps, and valves"
   ]
  },
  {
   "cell_type": "code",
   "execution_count": null,
   "metadata": {
    "tags": []
   },
   "outputs": [],
   "source": [
    "# Print the names of all links\n",
    "print(\"Link names\", wn.link_name_list)"
   ]
  },
  {
   "cell_type": "code",
   "execution_count": null,
   "metadata": {
    "tags": []
   },
   "outputs": [],
   "source": [
    "# Print the names of just head pumps\n",
    "print(\"Head pump names\", wn.head_pump_name_list)"
   ]
  },
  {
   "cell_type": "code",
   "execution_count": null,
   "metadata": {},
   "outputs": [],
   "source": [
    "# Get the name of links connected to a specific node\n",
    "connected_links = wn.get_links_for_node('229')\n",
    "print('Links connected to node 229 =', connected_links)"
   ]
  },
  {
   "cell_type": "code",
   "execution_count": null,
   "metadata": {
    "tags": []
   },
   "outputs": [],
   "source": [
    "# Get a pipe object, check its type, print properties and methods\n",
    "pipe = wn.get_link('105')\n",
    "print(type(pipe))\n",
    "print(dir_public(pipe))"
   ]
  },
  {
   "cell_type": "code",
   "execution_count": null,
   "metadata": {
    "tags": []
   },
   "outputs": [],
   "source": [
    "# Change the diameter\n",
    "print(\"Original diameter\", pipe.diameter)\n",
    "pipe.diameter = 10\n",
    "print(\"New diameter\", pipe.diameter)"
   ]
  },
  {
   "cell_type": "code",
   "execution_count": null,
   "metadata": {
    "tags": []
   },
   "outputs": [],
   "source": [
    "# Add a pipe\n",
    "\n",
    "# Remove a pipe"
   ]
  },
  {
   "cell_type": "markdown",
   "metadata": {
    "tags": []
   },
   "source": [
    "## Demands and Patterns\n",
    "Junctions can have multiple demands which are stored in a `demand_timeseries_list`. The following illustrates how to\n",
    "* Compute expected demand (which accounts for base demand, demand patterns, and demand multiplier)\n",
    "* Compute average expected demand (average value for a 24 hour period, also accounts for base demand, demand patterns, and demand multiplier)\n",
    "* Add demands to a junction\n",
    "* Modify demand base value and pattern\n",
    "* Remove demands from a junction\n",
    "* Plot expected and simulated demands"
   ]
  },
  {
   "cell_type": "code",
   "execution_count": null,
   "metadata": {},
   "outputs": [],
   "source": [
    "# Compute expected demand\n",
    "expected_demand = wntr.metrics.expected_demand(wn)\n",
    "print(expected_demand.head())"
   ]
  },
  {
   "cell_type": "code",
   "execution_count": null,
   "metadata": {},
   "outputs": [],
   "source": [
    "# Compute and plot average expected demand and \n",
    "AED = wntr.metrics.average_expected_demand(wn)\n",
    "print(AED.head())\n",
    "ax = wntr.graphics.plot_network(wn, node_attribute=AED, node_range=(0,0.025))"
   ]
  },
  {
   "cell_type": "code",
   "execution_count": null,
   "metadata": {},
   "outputs": [],
   "source": [
    "# Identify junctions with zero demand\n",
    "zero_demand = AED[AED == 0].index\n",
    "print(zero_demand)\n",
    "ax = wntr.graphics.plot_network(wn, node_attribute=list(zero_demand))"
   ]
  },
  {
   "cell_type": "code",
   "execution_count": null,
   "metadata": {},
   "outputs": [],
   "source": [
    "# Get the demands on Junction 15\n",
    "junction = wn.get_node('15')\n",
    "print(junction.demand_timeseries_list)"
   ]
  },
  {
   "cell_type": "code",
   "execution_count": null,
   "metadata": {
    "tags": []
   },
   "outputs": [],
   "source": [
    "# Get the pattern associated with the demand\n",
    "pattern = wn.get_pattern(junction.demand_timeseries_list[0].pattern_name)\n",
    "pattern"
   ]
  },
  {
   "cell_type": "code",
   "execution_count": null,
   "metadata": {},
   "outputs": [],
   "source": [
    "# Add a demand\n",
    "junction.add_demand(base=0.015, pattern_name='1')\n",
    "\n",
    "# Modify the base value of the original demand\n",
    "junction.demand_timeseries_list[0].base_value = 0.005\n",
    "\n",
    "# Add a pattern\n",
    "wn.add_pattern('new', [1,1,1,0,0,0,1,0,0.5,0.5,0.5,1])\n",
    "junction.demand_timeseries_list[0].pattern_name = \"new\"\n",
    "print(junction.demand_timeseries_list)"
   ]
  },
  {
   "cell_type": "code",
   "execution_count": null,
   "metadata": {},
   "outputs": [],
   "source": [
    "# Plot original and modified expected demands\n",
    "new_expected_demand = wntr.metrics.expected_demand(wn) \n",
    "\n",
    "plt.figure()\n",
    "ax = expected_demand.loc[0:48*3600, \"15\"].plot()\n",
    "new_expected_demand.loc[0:48*3600, \"15\"].plot(ax=ax)"
   ]
  },
  {
   "cell_type": "markdown",
   "metadata": {
    "tags": []
   },
   "source": [
    "## Curves"
   ]
  },
  {
   "cell_type": "markdown",
   "metadata": {},
   "source": [
    "Curves include pump head curves, tank volume curves, and pump efficiency curves.  The following example illustrates how to work with pump head curves and tank volume curves."
   ]
  },
  {
   "cell_type": "code",
   "execution_count": null,
   "metadata": {
    "tags": []
   },
   "outputs": [],
   "source": [
    "# Get a head pump object\n",
    "pump = wn.get_link('10')\n",
    "print(type(pump))\n",
    "\n",
    "# Plot the head pump curve\n",
    "ax = wntr.graphics.plot_pump_curve(pump)"
   ]
  },
  {
   "cell_type": "code",
   "execution_count": null,
   "metadata": {
    "tags": []
   },
   "outputs": [],
   "source": [
    "# Get the head curve and print the points\n",
    "pump_curve_name = pump.pump_curve_name\n",
    "curve = wn.get_curve(pump_curve_name)\n",
    "print(curve.points)\n",
    "\n",
    "# Modify the curve points and replot the pump curve\n",
    "curve.points = [(0.10, 20)]\n",
    "print(curve.points)\n",
    "ax = wntr.graphics.plot_pump_curve(pump)"
   ]
  },
  {
   "cell_type": "code",
   "execution_count": null,
   "metadata": {
    "tags": []
   },
   "outputs": [],
   "source": [
    "wn.add_curve('new_tank_curve', 'VOLUME', [\n",
    "   (1,  0),\n",
    "   (2,  60),\n",
    "   (3,  188),\n",
    "   (4,  372),\n",
    "   (5,  596),\n",
    "   (6,  848),\n",
    "   (7,  1114),\n",
    "   (8,  1379),\n",
    "   (9,  1631),\n",
    "   (10, 1856),\n",
    "   (11, 2039),\n",
    "   (12, 2168),\n",
    "   (13, 2228)])\n",
    "tank = wn.get_node('2')\n",
    "tank.vol_curve_name = 'new_tank_curve'\n",
    "ax = wntr.graphics.plot_tank_volume_curve(tank)"
   ]
  },
  {
   "cell_type": "markdown",
   "metadata": {},
   "source": [
    "## Controls"
   ]
  },
  {
   "cell_type": "code",
   "execution_count": null,
   "metadata": {
    "tags": []
   },
   "outputs": [],
   "source": [
    "for name, controls in wn.controls():\n",
    "    print(name, controls)"
   ]
  },
  {
   "cell_type": "code",
   "execution_count": null,
   "metadata": {
    "tags": []
   },
   "outputs": [],
   "source": [
    "# Modify a control\n",
    "control = wn.get_control('control 18')\n"
   ]
  },
  {
   "cell_type": "code",
   "execution_count": null,
   "metadata": {
    "tags": []
   },
   "outputs": [],
   "source": [
    "# Add a control\n",
    "\n",
    "# Remove a control"
   ]
  },
  {
   "cell_type": "code",
   "execution_count": null,
   "metadata": {},
   "outputs": [],
   "source": [
    "# Convert controls to rules\n",
    "wn.convert_controls_to_rules()\n",
    "for name, controls in wn.controls():\n",
    "    print(name, controls)"
   ]
  },
  {
   "cell_type": "markdown",
   "metadata": {},
   "source": [
    "## Model I/O"
   ]
  },
  {
   "cell_type": "code",
   "execution_count": null,
   "metadata": {
    "tags": []
   },
   "outputs": [],
   "source": [
    "# Write a INP file from the WaterNetworkModel\n",
    "wntr.network.io.write_inpfile(wn, 'modified_network.inp', units='LPS')"
   ]
  },
  {
   "cell_type": "code",
   "execution_count": null,
   "metadata": {
    "tags": []
   },
   "outputs": [],
   "source": [
    "wn_dict = wn.to_dict()\n",
    "#print(wn_dict)"
   ]
  },
  {
   "cell_type": "code",
   "execution_count": null,
   "metadata": {
    "tags": []
   },
   "outputs": [],
   "source": [
    "#to_graph\n",
    "#write json"
   ]
  },
  {
   "cell_type": "markdown",
   "metadata": {},
   "source": [
    "## Queries"
   ]
  },
  {
   "cell_type": "code",
   "execution_count": null,
   "metadata": {},
   "outputs": [],
   "source": [
    "# Return all pipe diameters\n",
    "all_pipe_diameters = wn.query_link_attribute('diameter')\n",
    "print(all_pipe_diameters.head())"
   ]
  },
  {
   "cell_type": "code",
   "execution_count": null,
   "metadata": {},
   "outputs": [],
   "source": [
    "# Return pipes diameters > 12 inches\n",
    "large_pipe_diameters = wn.query_link_attribute('diameter', np.greater, 12*0.0254)\n",
    "print(large_pipe_diameters.head())"
   ]
  },
  {
   "cell_type": "code",
   "execution_count": null,
   "metadata": {},
   "outputs": [],
   "source": [
    "# Plot large pipes\n",
    "ax = wntr.graphics.plot_network(wn, link_attribute=large_pipe_diameters, node_size=0, \n",
    "                           link_width=2, title=\"Pipes with diameter > 12 inches\")"
   ]
  },
  {
   "cell_type": "markdown",
   "metadata": {
    "tags": []
   },
   "source": [
    "## Loops and generators\n",
    "Loops and generators are commonly used to modify network components or run stochastic simulations"
   ]
  },
  {
   "cell_type": "code",
   "execution_count": null,
   "metadata": {},
   "outputs": [],
   "source": [
    "# Loop over tank names and objects with a generator\n",
    "for name, tank in wn.tanks():\n",
    "    print(\"Max level for tank\", name, \"=\", tank.max_level)"
   ]
  },
  {
   "cell_type": "code",
   "execution_count": null,
   "metadata": {},
   "outputs": [],
   "source": [
    "# Loop over tank names and then get the associated tank object\n",
    "for name in wn.tank_name_list:\n",
    "    tank = wn.get_node(name)\n",
    "    print(\"Max level for tank\", name, \"=\", tank.max_level)"
   ]
  },
  {
   "cell_type": "markdown",
   "metadata": {
    "tags": []
   },
   "source": [
    "## Coordinates"
   ]
  },
  {
   "cell_type": "markdown",
   "metadata": {},
   "source": [
    "## Pipe breaks and leaks"
   ]
  },
  {
   "cell_type": "code",
   "execution_count": null,
   "metadata": {},
   "outputs": [],
   "source": [
    "wn = wntr.morph.split_pipe(wn, '123', '123_B', '123_node')\n",
    "leak_node = wn.get_node('123_node')\n",
    "leak_node.add_leak(wn, area=0.05, start_time=2*3600, end_time=12*3600)"
   ]
  },
  {
   "cell_type": "markdown",
   "metadata": {
    "tags": []
   },
   "source": [
    "# 2. Hydraulic and Water Quality Simulations"
   ]
  },
  {
   "cell_type": "markdown",
   "metadata": {},
   "source": [
    "WNTR includes 2 simulators: the `EpanetSimulator` and the `WNTRSimulator`.  Both include the ability to run pressure dependent demand (PDD) or demand-driven (DD) hydraulic simulation.  Only the EpanetSimulator runs water quality simulations."
   ]
  },
  {
   "cell_type": "code",
   "execution_count": null,
   "metadata": {
    "tags": []
   },
   "outputs": [],
   "source": [
    "# Create water network model from an INP file\n",
    "wn = wntr.network.WaterNetworkModel('../networks/Net3.inp')"
   ]
  },
  {
   "cell_type": "markdown",
   "metadata": {
    "tags": []
   },
   "source": [
    "## Simulation options"
   ]
  },
  {
   "cell_type": "code",
   "execution_count": null,
   "metadata": {
    "tags": []
   },
   "outputs": [],
   "source": [
    "wn.options"
   ]
  },
  {
   "cell_type": "code",
   "execution_count": null,
   "metadata": {},
   "outputs": [],
   "source": [
    "# Set the simulation duration to 4 days\n",
    "wn.options.time.duration = 4*24*3600"
   ]
  },
  {
   "cell_type": "code",
   "execution_count": null,
   "metadata": {
    "tags": []
   },
   "outputs": [],
   "source": [
    "# PDD\n"
   ]
  },
  {
   "cell_type": "markdown",
   "metadata": {},
   "source": [
    "## EPANET and WNTR Simulators"
   ]
  },
  {
   "cell_type": "code",
   "execution_count": null,
   "metadata": {},
   "outputs": [],
   "source": [
    "# Simulate hydraulics using EPANET\n",
    "sim = wntr.sim.EpanetSimulator(wn)\n",
    "results = sim.run_sim()"
   ]
  },
  {
   "cell_type": "markdown",
   "metadata": {
    "tags": []
   },
   "source": [
    "## Simulation results"
   ]
  },
  {
   "cell_type": "code",
   "execution_count": null,
   "metadata": {},
   "outputs": [],
   "source": [
    "# Plot timeseries of tank levels\n",
    "tank_levels = results.node['pressure'].loc[:,wn.tank_name_list]\n",
    "tank_levels.plot(title='Tank level')\n",
    "\n",
    "# Plot timeseries of pump flowrates\n",
    "pump_flowrates = results.link['flowrate'].loc[:,wn.pump_name_list]\n",
    "pump_flowrates.plot(title='Pump flowrate')\n",
    "\n",
    "# Plot pressure at hour 5 on the network\n",
    "pressure_at_5hr = results.node['pressure'].loc[5*3600, :]\n",
    "ax = wntr.graphics.plot_network(wn, node_attribute=pressure_at_5hr, node_size=30, title='Pressure at 5 hours')"
   ]
  },
  {
   "cell_type": "markdown",
   "metadata": {
    "tags": []
   },
   "source": [
    "## Reset initial conditions"
   ]
  },
  {
   "cell_type": "code",
   "execution_count": null,
   "metadata": {
    "tags": []
   },
   "outputs": [],
   "source": [
    "wn.reset_initial_values()"
   ]
  },
  {
   "cell_type": "markdown",
   "metadata": {
    "tags": []
   },
   "source": [
    "# 3. Resilience Metrics"
   ]
  },
  {
   "cell_type": "markdown",
   "metadata": {},
   "source": [
    "## Topographic"
   ]
  },
  {
   "cell_type": "markdown",
   "metadata": {
    "tags": []
   },
   "source": [
    "## Hydraulic"
   ]
  },
  {
   "cell_type": "markdown",
   "metadata": {
    "tags": []
   },
   "source": [
    "# 4. Fragility Curves"
   ]
  },
  {
   "cell_type": "code",
   "execution_count": null,
   "metadata": {
    "tags": []
   },
   "outputs": [],
   "source": [
    "FC = wntr.scenario.FragilityCurve()\n",
    "FC.add_state('Minor', 1, {'Default': lognorm(0.5,scale=0.3)})\n",
    "FC.add_state('Major', 2, {'Default': lognorm(0.5,scale=0.7)})\n",
    "ax = wntr.graphics.plot_fragility_curve(FC, xlabel='Peak Ground Acceleration (g)')"
   ]
  },
  {
   "cell_type": "markdown",
   "metadata": {
    "tags": []
   },
   "source": [
    "# 5. Network Skeletonization"
   ]
  },
  {
   "cell_type": "code",
   "execution_count": null,
   "metadata": {
    "tags": []
   },
   "outputs": [],
   "source": [
    "# Create water network model from an INP file\n",
    "wn = wntr.network.WaterNetworkModel('../networks/Net3.inp')\n",
    "wn.describe(level=1)"
   ]
  },
  {
   "cell_type": "code",
   "execution_count": null,
   "metadata": {
    "tags": []
   },
   "outputs": [],
   "source": [
    "# Skeletonize the network using a 12 inch pipe diameter threshold\n",
    "skel_wn = wntr.morph.skeletonize(wn, 12*0.0254)\n",
    "skel_wn.describe(level=1)"
   ]
  },
  {
   "cell_type": "code",
   "execution_count": null,
   "metadata": {
    "tags": []
   },
   "outputs": [],
   "source": [
    "# Plot the original and skeletonized networks\n",
    "ax = wntr.graphics.plot_network(wn, node_size=10, title='Original')\n",
    "ax = wntr.graphics.plot_network(skel_wn, node_size=10, title='Skeletonized')"
   ]
  },
  {
   "cell_type": "code",
   "execution_count": null,
   "metadata": {
    "tags": []
   },
   "outputs": [],
   "source": [
    "# Simulate hydraulics on the original and skeletonized models and plot average pressure\n",
    "sim = wntr.sim.EpanetSimulator(wn)\n",
    "results_original = sim.run_sim()\n",
    "\n",
    "sim = wntr.sim.EpanetSimulator(skel_wn)\n",
    "results_skel = sim.run_sim()\n",
    "\n",
    "ax = results_original.node['pressure'].mean(axis=1).plot(label='Original')\n",
    "ax = results_skel.node['pressure'].mean(axis=1).plot(ax=ax, label='Skeletonized')\n",
    "plt.legend()"
   ]
  },
  {
   "cell_type": "markdown",
   "metadata": {},
   "source": [
    "# 6. Valve Segmentation"
   ]
  },
  {
   "cell_type": "code",
   "execution_count": null,
   "metadata": {
    "tags": []
   },
   "outputs": [],
   "source": [
    "# Create water network model from an INP file\n",
    "wn = wntr.network.WaterNetworkModel('../networks/Net3.inp')"
   ]
  },
  {
   "cell_type": "code",
   "execution_count": null,
   "metadata": {
    "tags": []
   },
   "outputs": [],
   "source": [
    "# Create a N-2 strategic valve layer\n",
    "valve_layer = wntr.network.generate_valve_layer(wn, 'strategic', 2)\n",
    "ax = wntr.graphics.plot_valve_layer(wn, valve_layer, add_colorbar=False)"
   ]
  },
  {
   "cell_type": "code",
   "execution_count": null,
   "metadata": {
    "tags": []
   },
   "outputs": [],
   "source": [
    "# Identify nodes and links that are in each valve segment\n",
    "G = wn.to_graph()\n",
    "node_segments, link_segments, seg_sizes = wntr.metrics.topographic.valve_segments(G, valve_layer)\n",
    "print('Node segments')\n",
    "print(node_segments)\n",
    "print()\n",
    "print('Link segments')\n",
    "print(link_segments)\n",
    "print()\n",
    "print('Segment sizes')\n",
    "print(seg_sizes)"
   ]
  },
  {
   "cell_type": "code",
   "execution_count": null,
   "metadata": {
    "tags": []
   },
   "outputs": [],
   "source": [
    "N = seg_sizes.shape[0]\n",
    "cmap = wntr.graphics.random_colormap(N) # random color map helps visualize segments\n",
    "ax = wntr.graphics.plot_network(wn, link_attribute=link_segments, node_size=0, link_width=2, link_range=[0,N], \n",
    "                                link_cmap=cmap, link_colorbar_label='Segment ID')\n",
    "ax = wntr.graphics.plot_valve_layer(wn, valve_layer, add_colorbar=False, ax=ax)"
   ]
  },
  {
   "cell_type": "markdown",
   "metadata": {
    "tags": []
   },
   "source": [
    "# 7. Geospatial Capabilities"
   ]
  },
  {
   "cell_type": "code",
   "execution_count": null,
   "metadata": {
    "tags": []
   },
   "outputs": [],
   "source": [
    "# Create water network model from an INP file\n",
    "wn = wntr.network.WaterNetworkModel('../networks/Net3.inp')"
   ]
  },
  {
   "cell_type": "code",
   "execution_count": null,
   "metadata": {},
   "outputs": [],
   "source": [
    "wn_gis = wntr.network.to_gis(wn)\n",
    "print(wn_gis.pipes.head())"
   ]
  },
  {
   "cell_type": "code",
   "execution_count": null,
   "metadata": {},
   "outputs": [],
   "source": []
  },
  {
   "cell_type": "code",
   "execution_count": null,
   "metadata": {},
   "outputs": [],
   "source": []
  }
 ],
 "metadata": {
  "kernelspec": {
   "display_name": "Python 3 (ipykernel)",
   "language": "python",
   "name": "python3"
  },
  "language_info": {
   "codemirror_mode": {
    "name": "ipython",
    "version": 3
   },
   "file_extension": ".py",
   "mimetype": "text/x-python",
   "name": "python",
   "nbconvert_exporter": "python",
   "pygments_lexer": "ipython3",
   "version": "3.11.5"
  },
  "vscode": {
   "interpreter": {
    "hash": "45e5fc2add644b17ca9d771f06d4d0791b1baf8fc0ad9b13d75afaf563ce7ce4"
   }
  }
 },
 "nbformat": 4,
 "nbformat_minor": 4
}
